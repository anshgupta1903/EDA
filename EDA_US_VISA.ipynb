{
 "cells": [
  {
   "cell_type": "code",
   "execution_count": 1,
   "id": "b1987df6-049f-406d-85a7-a373d86fc68a",
   "metadata": {},
   "outputs": [],
   "source": [
    "# this EDA has a lot of visualisation and feature Engineering\n",
    "# also it is a great example of target variable i.e case_status\n",
    "\n",
    "import pandas as pd\n",
    "import numpy as np\n",
    "import matplotlib.pyplot as plt\n",
    "import seaborn as sns\n",
    "\n",
    "\n",
    "import warnings\n",
    "warnings.filterwarnings('ignore')"
   ]
  },
  {
   "cell_type": "code",
   "execution_count": 2,
   "id": "5a9bbcd1-c156-422a-aad1-b7d017465340",
   "metadata": {},
   "outputs": [],
   "source": [
    "df = pd.read_csv('us_perm_visas.csv')"
   ]
  },
  {
   "cell_type": "code",
   "execution_count": 3,
   "id": "fa45c58f-4be3-49ee-97aa-ed6be3b13589",
   "metadata": {},
   "outputs": [
    {
     "data": {
      "text/plain": [
       "(374362, 154)"
      ]
     },
     "execution_count": 3,
     "metadata": {},
     "output_type": "execute_result"
    }
   ],
   "source": [
    "df.shape"
   ]
  },
  {
   "cell_type": "code",
   "execution_count": 4,
   "id": "03e37de0-2410-449d-aefe-539bfdd1bdc0",
   "metadata": {},
   "outputs": [
    {
     "data": {
      "text/html": [
       "<div>\n",
       "<style scoped>\n",
       "    .dataframe tbody tr th:only-of-type {\n",
       "        vertical-align: middle;\n",
       "    }\n",
       "\n",
       "    .dataframe tbody tr th {\n",
       "        vertical-align: top;\n",
       "    }\n",
       "\n",
       "    .dataframe thead th {\n",
       "        text-align: right;\n",
       "    }\n",
       "</style>\n",
       "<table border=\"1\" class=\"dataframe\">\n",
       "  <thead>\n",
       "    <tr style=\"text-align: right;\">\n",
       "      <th></th>\n",
       "      <th>add_these_pw_job_title_9089</th>\n",
       "      <th>agent_city</th>\n",
       "      <th>agent_firm_name</th>\n",
       "      <th>agent_state</th>\n",
       "      <th>application_type</th>\n",
       "      <th>case_no</th>\n",
       "      <th>case_number</th>\n",
       "      <th>case_received_date</th>\n",
       "      <th>case_status</th>\n",
       "      <th>class_of_admission</th>\n",
       "      <th>...</th>\n",
       "      <th>ri_pvt_employment_firm_to</th>\n",
       "      <th>ri_us_workers_considered</th>\n",
       "      <th>schd_a_sheepherder</th>\n",
       "      <th>us_economic_sector</th>\n",
       "      <th>wage_offer_from_9089</th>\n",
       "      <th>wage_offer_to_9089</th>\n",
       "      <th>wage_offer_unit_of_pay_9089</th>\n",
       "      <th>wage_offered_from_9089</th>\n",
       "      <th>wage_offered_to_9089</th>\n",
       "      <th>wage_offered_unit_of_pay_9089</th>\n",
       "    </tr>\n",
       "  </thead>\n",
       "  <tbody>\n",
       "    <tr>\n",
       "      <th>0</th>\n",
       "      <td>NaN</td>\n",
       "      <td>NaN</td>\n",
       "      <td>NaN</td>\n",
       "      <td>NaN</td>\n",
       "      <td>PERM</td>\n",
       "      <td>A-07323-97014</td>\n",
       "      <td>NaN</td>\n",
       "      <td>NaN</td>\n",
       "      <td>Certified</td>\n",
       "      <td>J-1</td>\n",
       "      <td>...</td>\n",
       "      <td>NaN</td>\n",
       "      <td>NaN</td>\n",
       "      <td>NaN</td>\n",
       "      <td>IT</td>\n",
       "      <td>75629.0</td>\n",
       "      <td>NaN</td>\n",
       "      <td>yr</td>\n",
       "      <td>NaN</td>\n",
       "      <td>NaN</td>\n",
       "      <td>NaN</td>\n",
       "    </tr>\n",
       "    <tr>\n",
       "      <th>1</th>\n",
       "      <td>NaN</td>\n",
       "      <td>NaN</td>\n",
       "      <td>NaN</td>\n",
       "      <td>NaN</td>\n",
       "      <td>PERM</td>\n",
       "      <td>A-07332-99439</td>\n",
       "      <td>NaN</td>\n",
       "      <td>NaN</td>\n",
       "      <td>Denied</td>\n",
       "      <td>B-2</td>\n",
       "      <td>...</td>\n",
       "      <td>NaN</td>\n",
       "      <td>NaN</td>\n",
       "      <td>NaN</td>\n",
       "      <td>Other Economic Sector</td>\n",
       "      <td>37024.0</td>\n",
       "      <td>NaN</td>\n",
       "      <td>yr</td>\n",
       "      <td>NaN</td>\n",
       "      <td>NaN</td>\n",
       "      <td>NaN</td>\n",
       "    </tr>\n",
       "    <tr>\n",
       "      <th>2</th>\n",
       "      <td>NaN</td>\n",
       "      <td>NaN</td>\n",
       "      <td>NaN</td>\n",
       "      <td>NaN</td>\n",
       "      <td>PERM</td>\n",
       "      <td>A-07333-99643</td>\n",
       "      <td>NaN</td>\n",
       "      <td>NaN</td>\n",
       "      <td>Certified</td>\n",
       "      <td>H-1B</td>\n",
       "      <td>...</td>\n",
       "      <td>NaN</td>\n",
       "      <td>NaN</td>\n",
       "      <td>NaN</td>\n",
       "      <td>Aerospace</td>\n",
       "      <td>47923.0</td>\n",
       "      <td>NaN</td>\n",
       "      <td>yr</td>\n",
       "      <td>NaN</td>\n",
       "      <td>NaN</td>\n",
       "      <td>NaN</td>\n",
       "    </tr>\n",
       "    <tr>\n",
       "      <th>3</th>\n",
       "      <td>NaN</td>\n",
       "      <td>NaN</td>\n",
       "      <td>NaN</td>\n",
       "      <td>NaN</td>\n",
       "      <td>PERM</td>\n",
       "      <td>A-07339-01930</td>\n",
       "      <td>NaN</td>\n",
       "      <td>NaN</td>\n",
       "      <td>Certified</td>\n",
       "      <td>B-2</td>\n",
       "      <td>...</td>\n",
       "      <td>NaN</td>\n",
       "      <td>NaN</td>\n",
       "      <td>NaN</td>\n",
       "      <td>Other Economic Sector</td>\n",
       "      <td>10.97</td>\n",
       "      <td>NaN</td>\n",
       "      <td>hr</td>\n",
       "      <td>NaN</td>\n",
       "      <td>NaN</td>\n",
       "      <td>NaN</td>\n",
       "    </tr>\n",
       "    <tr>\n",
       "      <th>4</th>\n",
       "      <td>NaN</td>\n",
       "      <td>NaN</td>\n",
       "      <td>NaN</td>\n",
       "      <td>NaN</td>\n",
       "      <td>PERM</td>\n",
       "      <td>A-07345-03565</td>\n",
       "      <td>NaN</td>\n",
       "      <td>NaN</td>\n",
       "      <td>Certified</td>\n",
       "      <td>L-1</td>\n",
       "      <td>...</td>\n",
       "      <td>NaN</td>\n",
       "      <td>NaN</td>\n",
       "      <td>NaN</td>\n",
       "      <td>Advanced Mfg</td>\n",
       "      <td>100000.0</td>\n",
       "      <td>NaN</td>\n",
       "      <td>yr</td>\n",
       "      <td>NaN</td>\n",
       "      <td>NaN</td>\n",
       "      <td>NaN</td>\n",
       "    </tr>\n",
       "  </tbody>\n",
       "</table>\n",
       "<p>5 rows × 154 columns</p>\n",
       "</div>"
      ],
      "text/plain": [
       "  add_these_pw_job_title_9089 agent_city agent_firm_name agent_state  \\\n",
       "0                         NaN        NaN             NaN         NaN   \n",
       "1                         NaN        NaN             NaN         NaN   \n",
       "2                         NaN        NaN             NaN         NaN   \n",
       "3                         NaN        NaN             NaN         NaN   \n",
       "4                         NaN        NaN             NaN         NaN   \n",
       "\n",
       "  application_type        case_no case_number case_received_date case_status  \\\n",
       "0             PERM  A-07323-97014         NaN                NaN   Certified   \n",
       "1             PERM  A-07332-99439         NaN                NaN      Denied   \n",
       "2             PERM  A-07333-99643         NaN                NaN   Certified   \n",
       "3             PERM  A-07339-01930         NaN                NaN   Certified   \n",
       "4             PERM  A-07345-03565         NaN                NaN   Certified   \n",
       "\n",
       "  class_of_admission  ... ri_pvt_employment_firm_to ri_us_workers_considered  \\\n",
       "0                J-1  ...                       NaN                      NaN   \n",
       "1                B-2  ...                       NaN                      NaN   \n",
       "2               H-1B  ...                       NaN                      NaN   \n",
       "3                B-2  ...                       NaN                      NaN   \n",
       "4                L-1  ...                       NaN                      NaN   \n",
       "\n",
       "  schd_a_sheepherder     us_economic_sector wage_offer_from_9089  \\\n",
       "0                NaN                     IT              75629.0   \n",
       "1                NaN  Other Economic Sector              37024.0   \n",
       "2                NaN              Aerospace              47923.0   \n",
       "3                NaN  Other Economic Sector                10.97   \n",
       "4                NaN           Advanced Mfg             100000.0   \n",
       "\n",
       "  wage_offer_to_9089 wage_offer_unit_of_pay_9089 wage_offered_from_9089  \\\n",
       "0                NaN                          yr                    NaN   \n",
       "1                NaN                          yr                    NaN   \n",
       "2                NaN                          yr                    NaN   \n",
       "3                NaN                          hr                    NaN   \n",
       "4                NaN                          yr                    NaN   \n",
       "\n",
       "  wage_offered_to_9089  wage_offered_unit_of_pay_9089  \n",
       "0                  NaN                            NaN  \n",
       "1                  NaN                            NaN  \n",
       "2                  NaN                            NaN  \n",
       "3                  NaN                            NaN  \n",
       "4                  NaN                            NaN  \n",
       "\n",
       "[5 rows x 154 columns]"
      ]
     },
     "execution_count": 4,
     "metadata": {},
     "output_type": "execute_result"
    }
   ],
   "source": [
    "df.head()"
   ]
  },
  {
   "cell_type": "code",
   "execution_count": 5,
   "id": "8eeff562-9750-4d9d-aab0-c6a61a885bf9",
   "metadata": {},
   "outputs": [
    {
     "data": {
      "text/html": [
       "<div>\n",
       "<style scoped>\n",
       "    .dataframe tbody tr th:only-of-type {\n",
       "        vertical-align: middle;\n",
       "    }\n",
       "\n",
       "    .dataframe tbody tr th {\n",
       "        vertical-align: top;\n",
       "    }\n",
       "\n",
       "    .dataframe thead th {\n",
       "        text-align: right;\n",
       "    }\n",
       "</style>\n",
       "<table border=\"1\" class=\"dataframe\">\n",
       "  <thead>\n",
       "    <tr style=\"text-align: right;\">\n",
       "      <th></th>\n",
       "      <th>add_these_pw_job_title_9089</th>\n",
       "      <th>agent_city</th>\n",
       "      <th>agent_firm_name</th>\n",
       "      <th>agent_state</th>\n",
       "      <th>application_type</th>\n",
       "      <th>case_no</th>\n",
       "      <th>case_number</th>\n",
       "      <th>case_received_date</th>\n",
       "      <th>case_status</th>\n",
       "      <th>class_of_admission</th>\n",
       "      <th>...</th>\n",
       "      <th>ri_pvt_employment_firm_to</th>\n",
       "      <th>ri_us_workers_considered</th>\n",
       "      <th>schd_a_sheepherder</th>\n",
       "      <th>us_economic_sector</th>\n",
       "      <th>wage_offer_from_9089</th>\n",
       "      <th>wage_offer_to_9089</th>\n",
       "      <th>wage_offer_unit_of_pay_9089</th>\n",
       "      <th>wage_offered_from_9089</th>\n",
       "      <th>wage_offered_to_9089</th>\n",
       "      <th>wage_offered_unit_of_pay_9089</th>\n",
       "    </tr>\n",
       "  </thead>\n",
       "  <tbody>\n",
       "    <tr>\n",
       "      <th>93341</th>\n",
       "      <td>NaN</td>\n",
       "      <td>NaN</td>\n",
       "      <td>NaN</td>\n",
       "      <td>NaN</td>\n",
       "      <td>ONLINE</td>\n",
       "      <td>A-13113-58491</td>\n",
       "      <td>NaN</td>\n",
       "      <td>NaN</td>\n",
       "      <td>Certified-Expired</td>\n",
       "      <td>H-1B</td>\n",
       "      <td>...</td>\n",
       "      <td>NaN</td>\n",
       "      <td>NaN</td>\n",
       "      <td>NaN</td>\n",
       "      <td>Other Economic Sector</td>\n",
       "      <td>NaN</td>\n",
       "      <td>NaN</td>\n",
       "      <td>NaN</td>\n",
       "      <td>126000.0</td>\n",
       "      <td>147000.0</td>\n",
       "      <td>Year</td>\n",
       "    </tr>\n",
       "  </tbody>\n",
       "</table>\n",
       "<p>1 rows × 154 columns</p>\n",
       "</div>"
      ],
      "text/plain": [
       "      add_these_pw_job_title_9089 agent_city agent_firm_name agent_state  \\\n",
       "93341                         NaN        NaN             NaN         NaN   \n",
       "\n",
       "      application_type        case_no case_number case_received_date  \\\n",
       "93341           ONLINE  A-13113-58491         NaN                NaN   \n",
       "\n",
       "             case_status class_of_admission  ... ri_pvt_employment_firm_to  \\\n",
       "93341  Certified-Expired               H-1B  ...                       NaN   \n",
       "\n",
       "      ri_us_workers_considered schd_a_sheepherder     us_economic_sector  \\\n",
       "93341                      NaN                NaN  Other Economic Sector   \n",
       "\n",
       "      wage_offer_from_9089 wage_offer_to_9089 wage_offer_unit_of_pay_9089  \\\n",
       "93341                  NaN                NaN                         NaN   \n",
       "\n",
       "      wage_offered_from_9089 wage_offered_to_9089  \\\n",
       "93341               126000.0             147000.0   \n",
       "\n",
       "       wage_offered_unit_of_pay_9089  \n",
       "93341                           Year  \n",
       "\n",
       "[1 rows x 154 columns]"
      ]
     },
     "execution_count": 5,
     "metadata": {},
     "output_type": "execute_result"
    }
   ],
   "source": [
    "df.sample()"
   ]
  },
  {
   "cell_type": "code",
   "execution_count": 6,
   "id": "635c8b52-f36d-42f2-be6a-2ff599cd3496",
   "metadata": {},
   "outputs": [
    {
     "name": "stdout",
     "output_type": "stream",
     "text": [
      "['add_these_pw_job_title_9089' 'agent_city' 'agent_firm_name'\n",
      " 'agent_state' 'application_type' 'case_no' 'case_number'\n",
      " 'case_received_date' 'case_status' 'class_of_admission'\n",
      " 'country_of_citizenship' 'country_of_citzenship' 'decision_date'\n",
      " 'employer_address_1' 'employer_address_2' 'employer_city'\n",
      " 'employer_country' 'employer_decl_info_title' 'employer_name'\n",
      " 'employer_num_employees' 'employer_phone' 'employer_phone_ext'\n",
      " 'employer_postal_code' 'employer_state' 'employer_yr_estab'\n",
      " 'foreign_worker_info_alt_edu_experience'\n",
      " 'foreign_worker_info_birth_country' 'foreign_worker_info_city'\n",
      " 'foreign_worker_info_education' 'foreign_worker_info_education_other'\n",
      " 'foreign_worker_info_inst' 'foreign_worker_info_major'\n",
      " 'foreign_worker_info_postal_code' 'foreign_worker_info_rel_occup_exp'\n",
      " 'foreign_worker_info_req_experience' 'foreign_worker_info_state'\n",
      " 'foreign_worker_info_training_comp' 'foreign_worker_ownership_interest'\n",
      " 'foreign_worker_yr_rel_edu_completed' 'fw_info_alt_edu_experience'\n",
      " 'fw_info_birth_country' 'fw_info_education_other' 'fw_info_postal_code'\n",
      " 'fw_info_rel_occup_exp' 'fw_info_req_experience' 'fw_info_training_comp'\n",
      " 'fw_info_yr_rel_edu_completed' 'fw_ownership_interest'\n",
      " 'ji_foreign_worker_live_on_premises' 'ji_fw_live_on_premises'\n",
      " 'ji_live_in_dom_svc_contract' 'ji_live_in_domestic_service'\n",
      " 'ji_offered_to_sec_j_foreign_worker' 'ji_offered_to_sec_j_fw'\n",
      " 'job_info_alt_cmb_ed_oth_yrs' 'job_info_alt_combo_ed'\n",
      " 'job_info_alt_combo_ed_exp' 'job_info_alt_combo_ed_other'\n",
      " 'job_info_alt_field' 'job_info_alt_field_name' 'job_info_alt_occ'\n",
      " 'job_info_alt_occ_job_title' 'job_info_alt_occ_num_months'\n",
      " 'job_info_combo_occupation' 'job_info_education'\n",
      " 'job_info_education_other' 'job_info_experience'\n",
      " 'job_info_experience_num_months' 'job_info_foreign_ed'\n",
      " 'job_info_foreign_lang_req' 'job_info_job_req_normal'\n",
      " 'job_info_job_title' 'job_info_major' 'job_info_training'\n",
      " 'job_info_training_field' 'job_info_training_num_months'\n",
      " 'job_info_work_city' 'job_info_work_postal_code' 'job_info_work_state'\n",
      " 'naics_2007_us_code' 'naics_2007_us_title' 'naics_code' 'naics_title'\n",
      " 'naics_us_code' 'naics_us_code_2007' 'naics_us_title'\n",
      " 'naics_us_title_2007' 'orig_case_no' 'orig_file_date'\n",
      " 'preparer_info_emp_completed' 'preparer_info_title' 'pw_amount_9089'\n",
      " 'pw_determ_date' 'pw_expire_date' 'pw_job_title_908' 'pw_job_title_9089'\n",
      " 'pw_level_9089' 'pw_soc_code' 'pw_soc_title' 'pw_source_name_9089'\n",
      " 'pw_source_name_other_9089' 'pw_track_num' 'pw_unit_of_pay_9089'\n",
      " 'rec_info_barg_rep_notified' 'recr_info_barg_rep_notified'\n",
      " 'recr_info_coll_teach_comp_proc' 'recr_info_coll_univ_teacher'\n",
      " 'recr_info_employer_rec_payment' 'recr_info_first_ad_start'\n",
      " 'recr_info_job_fair_from' 'recr_info_job_fair_to'\n",
      " 'recr_info_on_campus_recr_from' 'recr_info_on_campus_recr_to'\n",
      " 'recr_info_pro_org_advert_from' 'recr_info_pro_org_advert_to'\n",
      " 'recr_info_prof_org_advert_from' 'recr_info_prof_org_advert_to'\n",
      " 'recr_info_professional_occ' 'recr_info_radio_tv_ad_from'\n",
      " 'recr_info_radio_tv_ad_to' 'recr_info_second_ad_start'\n",
      " 'recr_info_sunday_newspaper' 'recr_info_swa_job_order_end'\n",
      " 'recr_info_swa_job_order_start' 'refile' 'ri_1st_ad_newspaper_name'\n",
      " 'ri_2nd_ad_newspaper_name' 'ri_2nd_ad_newspaper_or_journal'\n",
      " 'ri_campus_placement_from' 'ri_campus_placement_to'\n",
      " 'ri_coll_tch_basic_process' 'ri_coll_teach_pro_jnl'\n",
      " 'ri_coll_teach_select_date' 'ri_employee_referral_prog_from'\n",
      " 'ri_employee_referral_prog_to' 'ri_employer_web_post_from'\n",
      " 'ri_employer_web_post_to' 'ri_job_search_website_from'\n",
      " 'ri_job_search_website_to' 'ri_layoff_in_past_six_months'\n",
      " 'ri_local_ethnic_paper_from' 'ri_local_ethnic_paper_to'\n",
      " 'ri_posted_notice_at_worksite' 'ri_pvt_employment_firm_from'\n",
      " 'ri_pvt_employment_firm_to' 'ri_us_workers_considered'\n",
      " 'schd_a_sheepherder' 'us_economic_sector' 'wage_offer_from_9089'\n",
      " 'wage_offer_to_9089' 'wage_offer_unit_of_pay_9089'\n",
      " 'wage_offered_from_9089' 'wage_offered_to_9089'\n",
      " 'wage_offered_unit_of_pay_9089']\n"
     ]
    }
   ],
   "source": [
    "print(df.columns.values)"
   ]
  },
  {
   "cell_type": "code",
   "execution_count": 7,
   "id": "a15f87b4-f470-415f-8335-bdaf89119ec6",
   "metadata": {},
   "outputs": [
    {
     "data": {
      "text/plain": [
       "0         A-07323-97014\n",
       "1         A-07332-99439\n",
       "2         A-07333-99643\n",
       "3         A-07339-01930\n",
       "4         A-07345-03565\n",
       "              ...      \n",
       "374357              NaN\n",
       "374358              NaN\n",
       "374359              NaN\n",
       "374360              NaN\n",
       "374361              NaN\n",
       "Name: case_no, Length: 374362, dtype: object"
      ]
     },
     "execution_count": 7,
     "metadata": {},
     "output_type": "execute_result"
    }
   ],
   "source": [
    "df['case_no']"
   ]
  },
  {
   "cell_type": "code",
   "execution_count": 8,
   "id": "e60c58ee-54aa-41a8-9c14-996a0346d3d4",
   "metadata": {},
   "outputs": [
    {
     "data": {
      "text/plain": [
       "0                   NaN\n",
       "1                   NaN\n",
       "2                   NaN\n",
       "3                   NaN\n",
       "4                   NaN\n",
       "              ...      \n",
       "374357    A-16363-85407\n",
       "374358    A-16271-56745\n",
       "374359    A-16354-82345\n",
       "374360    A-16357-84250\n",
       "374361    A-16279-59292\n",
       "Name: case_number, Length: 374362, dtype: object"
      ]
     },
     "execution_count": 8,
     "metadata": {},
     "output_type": "execute_result"
    }
   ],
   "source": [
    "df['case_number']"
   ]
  },
  {
   "cell_type": "code",
   "execution_count": 9,
   "id": "c2c089d1-c289-4a6b-b408-b5665c1df66d",
   "metadata": {},
   "outputs": [],
   "source": [
    "# seeing the values of case_no and case_number both have same meanin,\n",
    "# i.e. visa application number\n",
    "# few values at the top in case_no. is null and few values at the end in case_number is null"
   ]
  },
  {
   "cell_type": "code",
   "execution_count": 10,
   "id": "c9322e41-56ba-433d-818f-188104e44aca",
   "metadata": {},
   "outputs": [
    {
     "data": {
      "text/plain": [
       "134990"
      ]
     },
     "execution_count": 10,
     "metadata": {},
     "output_type": "execute_result"
    }
   ],
   "source": [
    "df['case_no'].nunique()"
   ]
  },
  {
   "cell_type": "code",
   "execution_count": 11,
   "id": "26cd4470-a733-40b3-bdd5-14f56fa917eb",
   "metadata": {},
   "outputs": [
    {
     "data": {
      "text/plain": [
       "238418"
      ]
     },
     "execution_count": 11,
     "metadata": {},
     "output_type": "execute_result"
    }
   ],
   "source": [
    "df[\"case_number\"].nunique()"
   ]
  },
  {
   "cell_type": "code",
   "execution_count": 12,
   "id": "df274505-bf2c-44c3-9221-1bb4b90aa739",
   "metadata": {},
   "outputs": [
    {
     "data": {
      "text/plain": [
       "(374362, 154)"
      ]
     },
     "execution_count": 12,
     "metadata": {},
     "output_type": "execute_result"
    }
   ],
   "source": [
    "df.shape"
   ]
  },
  {
   "cell_type": "code",
   "execution_count": 13,
   "id": "4cb7ab35-d67a-4aba-8954-17a44f68311b",
   "metadata": {},
   "outputs": [
    {
     "data": {
      "text/plain": [
       "135269"
      ]
     },
     "execution_count": 13,
     "metadata": {},
     "output_type": "execute_result"
    }
   ],
   "source": [
    "df['case_number'].isna().sum()"
   ]
  },
  {
   "cell_type": "code",
   "execution_count": 14,
   "id": "255ec85e-adc3-42d7-898f-fc9318e9a0c8",
   "metadata": {},
   "outputs": [],
   "source": [
    "# null values in case number is almost close to values in case_no"
   ]
  },
  {
   "cell_type": "code",
   "execution_count": 15,
   "id": "faea958d-431d-4028-bc1c-8ecdeeddccd4",
   "metadata": {},
   "outputs": [
    {
     "data": {
      "text/plain": [
       "373408"
      ]
     },
     "execution_count": 15,
     "metadata": {},
     "output_type": "execute_result"
    }
   ],
   "source": [
    "134990 + 238418"
   ]
  },
  {
   "cell_type": "code",
   "execution_count": 16,
   "id": "8b5d6c25-8f93-448c-9b5e-1154f52c4142",
   "metadata": {},
   "outputs": [
    {
     "data": {
      "text/plain": [
       "0                   NaN\n",
       "1                   NaN\n",
       "2                   NaN\n",
       "3                   NaN\n",
       "4                   NaN\n",
       "              ...      \n",
       "374357    A-16363-85407\n",
       "374358    A-16271-56745\n",
       "374359    A-16354-82345\n",
       "374360    A-16357-84250\n",
       "374361    A-16279-59292\n",
       "Name: case_number, Length: 374362, dtype: object"
      ]
     },
     "execution_count": 16,
     "metadata": {},
     "output_type": "execute_result"
    }
   ],
   "source": [
    "df['case_number'] # top 135269 are null values(assumption)"
   ]
  },
  {
   "cell_type": "code",
   "execution_count": 17,
   "id": "6a47f22d-ba07-4f09-89f5-03e0e37774c7",
   "metadata": {},
   "outputs": [
    {
     "data": {
      "text/plain": [
       "5"
      ]
     },
     "execution_count": 17,
     "metadata": {},
     "output_type": "execute_result"
    }
   ],
   "source": [
    "df.columns.get_loc('case_no') # to get the column index of case number"
   ]
  },
  {
   "cell_type": "code",
   "execution_count": 18,
   "id": "7833f70a-7778-4fd1-b1b0-0f98cc5545d5",
   "metadata": {},
   "outputs": [
    {
     "data": {
      "text/plain": [
       "6"
      ]
     },
     "execution_count": 18,
     "metadata": {},
     "output_type": "execute_result"
    }
   ],
   "source": [
    "df.columns.get_loc('case_number') # to get the column index of case number"
   ]
  },
  {
   "cell_type": "code",
   "execution_count": 19,
   "id": "41569a9e-ea02-492c-a1f3-aacef0529a21",
   "metadata": {},
   "outputs": [],
   "source": [
    "casenoindex = df.columns.get_loc('case_no') \n",
    "casenumberindex = df.columns.get_loc('case_number') \n",
    "\n",
    "casenumberlist = []\n",
    "for value in df.iloc[0:135269, casenoindex]:\n",
    "    casenumberlist.append(value)\n",
    "for value in df.iloc[135269:374362, casenumberindex]:\n",
    "    casenumberlist.append(value)"
   ]
  },
  {
   "cell_type": "code",
   "execution_count": 20,
   "id": "52fba966-493b-48bf-9251-69bf9c3267ea",
   "metadata": {},
   "outputs": [
    {
     "data": {
      "text/plain": [
       "['A-07323-97014',\n",
       " 'A-07332-99439',\n",
       " 'A-07333-99643',\n",
       " 'A-07339-01930',\n",
       " 'A-07345-03565',\n",
       " 'A-07352-06288',\n",
       " 'A-07354-06926',\n",
       " 'A-08004-10147',\n",
       " 'A-08004-10184',\n",
       " 'A-08010-11785',\n",
       " 'A-08057-27232',\n",
       " 'A-08058-28001',\n",
       " 'A-08076-33611',\n",
       " 'A-08085-36053',\n",
       " 'A-08104-41821',\n",
       " 'A-08120-47187',\n",
       " 'A-08127-49255',\n",
       " 'A-08148-55775',\n",
       " 'A-08162-60225',\n",
       " 'A-08164-61023',\n",
       " 'A-08176-64095',\n",
       " 'A-08182-66284',\n",
       " 'A-08190-68131',\n",
       " 'A-08190-68200',\n",
       " 'A-08271-91261',\n",
       " 'A-08200-71216',\n",
       " 'A-08203-71676',\n",
       " 'A-08211-73870',\n",
       " 'A-08211-74089',\n",
       " 'A-08212-74295',\n",
       " 'A-08220-76622',\n",
       " 'A-08221-77017',\n",
       " 'A-08221-77195',\n",
       " 'A-08224-77312',\n",
       " 'A-08225-77723',\n",
       " 'A-08227-78536',\n",
       " 'A-08238-81419',\n",
       " 'A-08238-81533',\n",
       " 'A-08240-82338',\n",
       " 'A-08241-82750',\n",
       " 'A-08246-83350',\n",
       " 'A-08247-83629',\n",
       " 'A-08254-85569',\n",
       " 'A-08255-86138',\n",
       " 'A-08259-87626',\n",
       " 'A-08260-88111',\n",
       " 'A-08264-89308',\n",
       " 'A-08267-89752',\n",
       " 'A-08267-89878',\n",
       " 'A-08270-91040',\n",
       " 'A-08276-92533',\n",
       " 'A-08276-92560',\n",
       " 'A-08280-93353',\n",
       " 'A-08280-93404',\n",
       " 'A-08280-93430',\n",
       " 'A-08284-94914',\n",
       " 'A-08284-95050',\n",
       " 'A-08288-95794',\n",
       " 'A-08288-95916',\n",
       " 'A-08291-96775',\n",
       " 'A-08291-96813',\n",
       " 'A-08291-96847',\n",
       " 'A-08291-97042',\n",
       " 'A-06353-92851',\n",
       " 'A-07004-96978',\n",
       " 'A-07165-46663',\n",
       " 'A-07213-62416',\n",
       " 'A-07237-69481',\n",
       " 'A-07239-69694',\n",
       " 'A-07257-75661',\n",
       " 'A-07264-77890',\n",
       " 'A-07270-79789',\n",
       " 'A-07299-89765',\n",
       " 'A-07311-93198',\n",
       " 'A-08296-98212',\n",
       " 'A-08298-99062',\n",
       " 'A-08301-99632',\n",
       " 'A-08305-01526',\n",
       " 'A-08309-02134',\n",
       " 'A-08310-02671',\n",
       " 'A-08318-05127',\n",
       " 'A-08318-05168',\n",
       " 'A-08319-05713',\n",
       " 'A-08319-05779',\n",
       " 'A-08319-05869',\n",
       " 'A-08322-06232',\n",
       " 'A-08323-06892',\n",
       " 'A-08325-07733',\n",
       " 'A-08326-08188',\n",
       " 'A-08330-08993',\n",
       " 'A-08331-09735',\n",
       " 'A-08331-09808',\n",
       " 'A-08336-10229',\n",
       " 'A-08339-11458',\n",
       " 'A-08343-12017',\n",
       " 'A-08344-12339',\n",
       " 'A-08344-12366',\n",
       " 'A-08346-13198',\n",
       " 'A-08347-13759',\n",
       " 'A-08351-14351',\n",
       " 'A-08352-14847',\n",
       " 'A-08353-15254',\n",
       " 'A-08353-15262',\n",
       " 'A-08353-15371',\n",
       " 'A-08353-15426',\n",
       " 'A-08354-15600',\n",
       " 'A-08354-15603',\n",
       " 'A-08359-16750',\n",
       " 'A-08364-16848',\n",
       " 'A-08364-16914',\n",
       " 'A-08366-17436',\n",
       " 'A-09006-18173',\n",
       " 'A-09007-18575',\n",
       " 'A-09007-18596',\n",
       " 'A-09008-19044',\n",
       " 'A-09008-19148',\n",
       " 'A-09009-19507',\n",
       " 'A-09012-19630',\n",
       " 'A-09012-19875',\n",
       " 'A-09012-19921',\n",
       " 'A-09013-20308',\n",
       " 'A-09014-20804',\n",
       " 'A-09016-21356',\n",
       " 'A-09016-21364',\n",
       " 'A-09016-21425',\n",
       " 'A-09016-21537',\n",
       " 'A-09020-22022',\n",
       " 'A-09021-22363',\n",
       " 'A-09021-22406',\n",
       " 'A-09022-22801',\n",
       " 'A-09022-22945',\n",
       " 'A-09028-24162',\n",
       " 'A-09028-24306',\n",
       " 'A-09030-24767',\n",
       " 'A-09030-24939',\n",
       " 'A-09034-25500',\n",
       " 'A-09035-25632',\n",
       " 'A-09035-25841',\n",
       " 'A-09037-26289',\n",
       " 'A-09041-26827',\n",
       " 'A-09042-27184',\n",
       " 'A-09042-27253',\n",
       " 'A-09043-27667',\n",
       " 'A-09044-27832',\n",
       " 'A-09047-28070',\n",
       " 'A-09047-28120',\n",
       " 'A-09051-29262',\n",
       " 'A-09054-29578',\n",
       " 'A-09056-30001',\n",
       " 'A-09056-30267',\n",
       " 'A-09058-30615',\n",
       " 'A-09058-30808',\n",
       " 'A-09063-31668',\n",
       " 'A-09063-31791',\n",
       " 'A-09064-31823',\n",
       " 'A-09064-32082',\n",
       " 'A-09066-32390',\n",
       " 'A-09068-32685',\n",
       " 'A-09071-33284',\n",
       " 'A-09072-33587',\n",
       " 'A-09072-33693',\n",
       " 'A-09075-33825',\n",
       " 'A-09076-34048',\n",
       " 'A-09076-34255',\n",
       " 'A-09077-34342',\n",
       " 'A-09079-34927',\n",
       " 'A-09082-35210',\n",
       " 'A-09089-36357',\n",
       " 'A-09089-36437',\n",
       " 'A-09092-37032',\n",
       " 'A-09092-37186',\n",
       " 'A-09093-37250',\n",
       " 'A-09093-37410',\n",
       " 'A-09096-37657',\n",
       " 'A-09097-37911',\n",
       " 'A-09098-38279',\n",
       " 'A-09099-38442',\n",
       " 'A-09099-38487',\n",
       " 'A-09100-38691',\n",
       " 'A-09100-38758',\n",
       " 'A-09100-38836',\n",
       " 'A-09103-39074',\n",
       " 'A-09105-39507',\n",
       " 'A-09105-39567',\n",
       " 'A-09106-39960',\n",
       " 'A-09106-40012',\n",
       " 'A-09113-41123',\n",
       " 'A-09113-41258',\n",
       " 'A-09114-41395',\n",
       " 'A-09114-41589',\n",
       " 'A-09118-41997',\n",
       " 'A-09118-42113',\n",
       " 'A-09119-42349',\n",
       " 'A-09120-42475',\n",
       " 'A-09120-42541',\n",
       " 'A-09120-42560',\n",
       " 'A-09120-42664',\n",
       " 'A-09121-42750',\n",
       " 'A-09121-42832',\n",
       " 'A-09125-43302',\n",
       " 'A-09126-43544',\n",
       " 'A-09126-43639',\n",
       " 'A-09126-43697',\n",
       " 'A-09127-43815',\n",
       " 'A-09127-43868',\n",
       " 'A-09128-44064',\n",
       " 'A-09132-44724',\n",
       " 'A-09133-44759',\n",
       " 'A-09134-45101',\n",
       " 'A-09138-45536',\n",
       " 'A-09139-45734',\n",
       " 'A-09139-45805',\n",
       " 'A-09139-45864',\n",
       " 'A-09140-46024',\n",
       " 'A-09140-46083',\n",
       " 'A-09140-46119',\n",
       " 'A-09140-46123',\n",
       " 'A-09140-46241',\n",
       " 'A-09141-46260',\n",
       " 'A-09141-46437',\n",
       " 'A-09142-46484',\n",
       " 'A-09142-46540',\n",
       " 'A-09142-46567',\n",
       " 'A-09143-46679',\n",
       " 'A-09146-46827',\n",
       " 'A-09146-46927',\n",
       " 'A-09146-46936',\n",
       " 'A-09147-47018',\n",
       " 'A-09147-47036',\n",
       " 'A-09147-47170',\n",
       " 'A-09148-47246',\n",
       " 'A-09148-47467',\n",
       " 'A-09149-47730',\n",
       " 'A-09152-47853',\n",
       " 'A-09153-48061',\n",
       " 'A-09153-48176',\n",
       " 'A-09155-48567',\n",
       " 'A-09155-48573',\n",
       " 'A-09155-48647',\n",
       " 'A-09156-48769',\n",
       " 'A-11181-89692',\n",
       " 'A-09156-48808',\n",
       " 'A-09156-48863',\n",
       " 'A-09160-49202',\n",
       " 'A-09160-49285',\n",
       " 'A-09160-49295',\n",
       " 'A-09162-49723',\n",
       " 'A-09162-49890',\n",
       " 'A-09163-49954',\n",
       " 'A-09166-50131',\n",
       " 'A-09166-50178',\n",
       " 'A-09166-50179',\n",
       " 'A-09166-50219',\n",
       " 'A-09167-50353',\n",
       " 'A-09167-50459',\n",
       " 'A-09167-50549',\n",
       " 'A-09169-50871',\n",
       " 'A-09169-50921',\n",
       " 'A-09169-50952',\n",
       " 'A-09170-51208',\n",
       " 'A-09170-51214',\n",
       " 'A-09170-51233',\n",
       " 'A-09170-51235',\n",
       " 'A-09170-51245',\n",
       " 'A-09171-51272',\n",
       " 'A-09171-51277',\n",
       " 'A-09173-51505',\n",
       " 'A-09174-51630',\n",
       " 'A-09174-51797',\n",
       " 'A-09175-51903',\n",
       " 'A-09175-51927',\n",
       " 'A-09176-52108',\n",
       " 'A-09176-52331',\n",
       " 'A-09180-52587',\n",
       " 'A-09180-52610',\n",
       " 'A-09180-52614',\n",
       " 'A-09180-52815',\n",
       " 'A-09180-52835',\n",
       " 'A-09181-53025',\n",
       " 'A-09181-53136',\n",
       " 'A-09182-53212',\n",
       " 'A-09182-53328',\n",
       " 'A-09183-53455',\n",
       " 'A-09183-53463',\n",
       " 'A-09184-53605',\n",
       " 'A-09184-53613',\n",
       " 'A-09187-53703',\n",
       " 'A-09188-53898',\n",
       " 'A-09189-54057',\n",
       " 'A-09189-54155',\n",
       " 'A-09190-54262',\n",
       " 'A-09190-54270',\n",
       " 'A-09190-54323',\n",
       " 'A-09191-54617',\n",
       " 'A-09194-54698',\n",
       " 'A-09194-54798',\n",
       " 'A-09195-54975',\n",
       " 'A-09195-55024',\n",
       " 'A-09195-55045',\n",
       " 'A-09196-55323',\n",
       " 'A-09197-55522',\n",
       " 'A-09198-55624',\n",
       " 'A-09201-55906',\n",
       " 'A-09202-56164',\n",
       " 'A-09204-56649',\n",
       " 'A-09204-56726',\n",
       " 'A-09205-56793',\n",
       " 'A-09208-56970',\n",
       " 'A-09208-57110',\n",
       " 'A-09209-57234',\n",
       " 'A-09209-57326',\n",
       " 'A-09209-57380',\n",
       " 'A-09210-57449',\n",
       " 'A-09210-57499',\n",
       " 'A-09210-57532',\n",
       " 'A-09211-57711',\n",
       " 'A-09212-57852',\n",
       " 'A-09212-57903',\n",
       " 'A-09212-57945',\n",
       " 'A-09214-58032',\n",
       " 'A-09215-58207',\n",
       " 'A-09216-58439',\n",
       " 'A-09217-58500',\n",
       " 'A-09217-58586',\n",
       " 'A-09217-58619',\n",
       " 'A-09218-58640',\n",
       " 'A-09222-59193',\n",
       " 'A-09224-59553',\n",
       " 'A-09225-59762',\n",
       " 'A-09226-59937',\n",
       " 'A-09226-59979',\n",
       " 'A-09229-60210',\n",
       " 'A-09229-60259',\n",
       " 'A-09230-60314',\n",
       " 'A-09230-60326',\n",
       " 'A-09231-60483',\n",
       " 'A-09232-60696',\n",
       " 'A-09232-60713',\n",
       " 'A-09232-60786',\n",
       " 'A-09236-61059',\n",
       " 'A-09236-61092',\n",
       " 'A-09237-61282',\n",
       " 'A-09238-61568',\n",
       " 'A-09238-61706',\n",
       " 'A-09238-61724',\n",
       " 'A-09239-61829',\n",
       " 'A-09240-61959',\n",
       " 'A-09240-61960',\n",
       " 'A-09243-62157',\n",
       " 'A-09243-62190',\n",
       " 'A-09243-62276',\n",
       " 'A-09244-62379',\n",
       " 'A-09244-62412',\n",
       " 'A-09244-62500',\n",
       " 'A-09245-62600',\n",
       " 'A-09245-62740',\n",
       " 'A-09246-62826',\n",
       " 'A-09246-62837',\n",
       " 'A-09246-62878',\n",
       " 'A-09246-62902',\n",
       " 'A-09247-63070',\n",
       " 'A-09247-63113',\n",
       " 'A-09251-63392',\n",
       " 'A-09252-63596',\n",
       " 'A-09253-63726',\n",
       " 'A-09253-63867',\n",
       " 'A-09254-63892',\n",
       " 'A-09254-63953',\n",
       " 'A-09254-64010',\n",
       " 'A-09257-64174',\n",
       " 'A-09257-64180',\n",
       " 'A-09257-64237',\n",
       " 'A-09258-64339',\n",
       " 'A-09258-64379',\n",
       " 'A-09258-64516',\n",
       " 'A-09260-64753',\n",
       " 'A-09260-64970',\n",
       " 'A-09265-65534',\n",
       " 'A-09266-65623',\n",
       " 'A-09266-65630',\n",
       " 'A-09267-65884',\n",
       " 'A-09267-65932',\n",
       " 'A-09268-66039',\n",
       " 'A-09268-66053',\n",
       " 'A-09268-66059',\n",
       " 'A-09268-66090',\n",
       " 'A-09268-66151',\n",
       " 'A-09270-66236',\n",
       " 'A-09271-66306',\n",
       " 'A-09271-66406',\n",
       " 'A-09272-66521',\n",
       " 'A-09272-66530',\n",
       " 'A-09272-66531',\n",
       " 'A-09272-66603',\n",
       " 'A-09272-66645',\n",
       " 'A-09272-66667',\n",
       " 'A-09273-66936',\n",
       " 'A-09273-67004',\n",
       " 'A-09273-67026',\n",
       " 'A-09274-67071',\n",
       " 'A-09274-67150',\n",
       " 'A-09274-67245',\n",
       " 'A-09274-67251',\n",
       " 'A-09275-67388',\n",
       " 'A-09275-67418',\n",
       " 'A-09275-67478',\n",
       " 'A-09278-67559',\n",
       " 'A-09279-67850',\n",
       " 'A-09279-67895',\n",
       " 'A-09280-68031',\n",
       " 'A-09280-68047',\n",
       " 'A-09281-68212',\n",
       " 'A-09281-68294',\n",
       " 'A-09281-68318',\n",
       " 'A-09282-68351',\n",
       " 'A-09282-68446',\n",
       " 'A-09285-68552',\n",
       " 'A-09287-68884',\n",
       " 'A-09287-68968',\n",
       " 'A-09287-68974',\n",
       " 'A-09287-69046',\n",
       " 'A-09288-69216',\n",
       " 'A-09291-69464',\n",
       " 'A-09293-69870',\n",
       " 'A-09294-69982',\n",
       " 'A-09295-70276',\n",
       " 'A-09296-70361',\n",
       " 'A-09299-70577',\n",
       " 'A-09299-70683',\n",
       " 'A-09300-70767',\n",
       " 'A-09300-70898',\n",
       " 'A-09300-70960',\n",
       " 'A-09301-71150',\n",
       " 'A-09301-71158',\n",
       " 'A-09302-71244',\n",
       " 'A-09302-71259',\n",
       " 'A-09302-71340',\n",
       " 'A-09303-71365',\n",
       " 'A-09307-71902',\n",
       " 'A-09308-71985',\n",
       " 'A-09309-72267',\n",
       " 'A-09309-72321',\n",
       " 'A-09313-72715',\n",
       " 'A-09313-72721',\n",
       " 'A-09314-72800',\n",
       " 'A-09314-72955',\n",
       " 'A-09315-73022',\n",
       " 'A-09315-73041',\n",
       " 'A-09315-73045',\n",
       " 'A-09315-73103',\n",
       " 'A-09316-73359',\n",
       " 'A-09318-73598',\n",
       " 'A-09320-73644',\n",
       " 'A-09320-73827',\n",
       " 'A-09320-73831',\n",
       " 'A-09321-73867',\n",
       " 'A-09321-73878',\n",
       " 'A-09321-73884',\n",
       " 'A-09321-73916',\n",
       " 'A-09321-74014',\n",
       " 'A-09322-74099',\n",
       " 'A-09322-74133',\n",
       " 'A-09322-74146',\n",
       " 'A-09323-74254',\n",
       " 'A-11236-01746',\n",
       " 'A-09324-74527',\n",
       " 'A-09327-74846',\n",
       " 'A-09327-74868',\n",
       " 'A-09328-74993',\n",
       " 'A-09329-75095',\n",
       " 'A-09329-75115',\n",
       " 'A-09329-75120',\n",
       " 'A-09329-75157',\n",
       " 'A-09329-75180',\n",
       " 'A-09334-75260',\n",
       " 'A-09334-75280',\n",
       " 'A-09334-75301',\n",
       " 'A-09334-75318',\n",
       " 'A-09334-75367',\n",
       " 'A-09335-75528',\n",
       " 'A-09335-75572',\n",
       " 'A-09336-75821',\n",
       " 'A-09336-75822',\n",
       " 'A-09336-75837',\n",
       " 'A-09336-75844',\n",
       " 'A-09336-75913',\n",
       " 'A-09337-75975',\n",
       " 'A-09337-76018',\n",
       " 'A-09337-76021',\n",
       " 'A-09337-76056',\n",
       " 'A-09337-76066',\n",
       " 'A-09337-76132',\n",
       " 'A-09338-76142',\n",
       " 'A-09338-76223',\n",
       " 'A-09338-76254',\n",
       " 'A-09338-76255',\n",
       " 'A-09338-76272',\n",
       " 'A-09338-76291',\n",
       " 'A-09338-76312',\n",
       " 'A-09338-76334',\n",
       " 'A-09341-76372',\n",
       " 'A-09341-76388',\n",
       " 'A-09341-76431',\n",
       " 'A-09341-76451',\n",
       " 'A-09341-76496',\n",
       " 'A-09341-76567',\n",
       " 'A-09341-76580',\n",
       " 'A-09341-76589',\n",
       " 'A-09342-76605',\n",
       " 'A-09343-76951',\n",
       " 'A-09343-76973',\n",
       " 'A-09343-76993',\n",
       " 'A-09343-76997',\n",
       " 'A-10052-87197',\n",
       " 'A-09344-77197',\n",
       " 'A-09345-77213',\n",
       " 'A-09345-77289',\n",
       " 'A-09348-77520',\n",
       " 'A-09348-77580',\n",
       " 'A-09348-77585',\n",
       " 'A-09349-77791',\n",
       " 'A-09349-77820',\n",
       " 'A-09350-77845',\n",
       " 'A-09350-77910',\n",
       " 'A-09350-77924',\n",
       " 'A-09350-77991',\n",
       " 'A-09350-78076',\n",
       " 'A-09351-78255',\n",
       " 'A-09352-78325',\n",
       " 'A-09352-78374',\n",
       " 'A-09352-78482',\n",
       " 'A-09355-78510',\n",
       " 'A-09355-78580',\n",
       " 'A-09355-78653',\n",
       " 'A-09355-78672',\n",
       " 'A-09356-78904',\n",
       " 'A-09357-78910',\n",
       " 'A-09357-78968',\n",
       " 'A-09357-79057',\n",
       " 'A-09357-79128',\n",
       " 'A-09358-79160',\n",
       " 'A-09361-79220',\n",
       " 'A-09362-79284',\n",
       " 'A-09362-79345',\n",
       " 'A-09362-79402',\n",
       " 'A-09363-79427',\n",
       " 'A-09364-79633',\n",
       " 'A-09364-79687',\n",
       " 'A-09364-79741',\n",
       " 'A-09365-79848',\n",
       " 'A-10005-80110',\n",
       " 'A-10005-80164',\n",
       " 'A-10006-80421',\n",
       " 'A-10006-80468',\n",
       " 'A-10006-80562',\n",
       " 'A-10007-80591',\n",
       " 'A-10008-80909',\n",
       " 'A-10008-80935',\n",
       " 'A-10008-80942',\n",
       " 'A-10010-80988',\n",
       " 'A-10011-81225',\n",
       " 'A-10011-81241',\n",
       " 'A-10012-81324',\n",
       " 'A-10012-81368',\n",
       " 'A-10013-81590',\n",
       " 'A-10015-82063',\n",
       " 'A-10019-82330',\n",
       " 'A-10019-82334',\n",
       " 'A-10019-82362',\n",
       " 'A-10019-82374',\n",
       " 'A-10019-82439',\n",
       " 'A-10020-82543',\n",
       " 'A-11278-09939',\n",
       " 'A-10022-83144',\n",
       " 'A-10026-83430',\n",
       " 'A-10026-83458',\n",
       " 'A-10032-84400',\n",
       " 'A-10034-84930',\n",
       " 'A-10035-85031',\n",
       " 'A-10035-85064',\n",
       " 'A-10036-85322',\n",
       " 'A-10040-85691',\n",
       " 'A-10041-85982',\n",
       " 'A-10043-86241',\n",
       " 'A-10046-86438',\n",
       " 'A-10048-86677',\n",
       " 'A-10049-86874',\n",
       " 'A-10050-87100',\n",
       " 'A-10053-87265',\n",
       " 'A-10055-87662',\n",
       " 'A-10055-87759',\n",
       " 'A-10055-87762',\n",
       " 'A-10060-88301',\n",
       " 'A-10060-88303',\n",
       " 'A-10061-88367',\n",
       " 'A-10061-88412',\n",
       " 'A-10159-02552',\n",
       " 'A-10061-88444',\n",
       " 'A-10061-88525',\n",
       " 'A-10061-88538',\n",
       " 'A-10062-88700',\n",
       " 'A-10062-88716',\n",
       " 'A-10063-88833',\n",
       " 'A-10063-88913',\n",
       " 'A-10063-88940',\n",
       " 'A-10064-89085',\n",
       " 'A-10067-89347',\n",
       " 'A-10067-89413',\n",
       " 'A-10068-89423',\n",
       " 'A-10068-89483',\n",
       " 'A-10068-89487',\n",
       " 'A-10068-89489',\n",
       " 'A-10069-89740',\n",
       " 'A-10069-89834',\n",
       " 'A-10069-89851',\n",
       " 'A-10069-89893',\n",
       " 'A-10071-90195',\n",
       " 'A-10071-90221',\n",
       " 'A-10071-90251',\n",
       " 'A-10074-90310',\n",
       " 'A-10076-90679',\n",
       " 'A-10076-90737',\n",
       " 'A-10077-90963',\n",
       " 'A-10078-90988',\n",
       " 'A-10078-91101',\n",
       " 'A-10080-91163',\n",
       " 'A-10081-91257',\n",
       " 'A-10081-91259',\n",
       " 'A-10081-91370',\n",
       " 'A-10082-91423',\n",
       " 'A-10082-91470',\n",
       " 'A-10083-91611',\n",
       " 'A-10083-91719',\n",
       " 'A-10085-92000',\n",
       " 'A-10087-92250',\n",
       " 'A-10088-92352',\n",
       " 'A-10088-92395',\n",
       " 'A-10088-92401',\n",
       " 'A-10089-92490',\n",
       " 'A-10090-92816',\n",
       " 'A-10091-92953',\n",
       " 'A-10091-93026',\n",
       " 'A-10091-93030',\n",
       " 'A-10091-93033',\n",
       " 'A-10091-93035',\n",
       " 'A-10095-93274',\n",
       " 'A-10095-93336',\n",
       " 'A-10097-93610',\n",
       " 'A-10097-93787',\n",
       " 'A-10098-93816',\n",
       " 'A-10099-94077',\n",
       " 'A-10104-94557',\n",
       " 'A-10104-94567',\n",
       " 'A-10104-94683',\n",
       " 'A-10105-94846',\n",
       " 'A-10109-95233',\n",
       " 'A-10111-95582',\n",
       " 'A-10111-95592',\n",
       " 'A-10113-95947',\n",
       " 'A-10116-96235',\n",
       " 'A-10117-96318',\n",
       " 'A-10117-96364',\n",
       " 'A-10117-96467',\n",
       " 'A-10119-96684',\n",
       " 'A-10119-96700',\n",
       " 'A-10120-96892',\n",
       " 'A-10120-96895',\n",
       " 'A-10161-02838',\n",
       " 'A-10120-96899',\n",
       " 'A-10125-97562',\n",
       " 'A-10127-97899',\n",
       " 'A-10127-97954',\n",
       " 'A-10130-98232',\n",
       " 'A-10131-98348',\n",
       " 'A-10131-98455',\n",
       " 'A-10132-98761',\n",
       " 'A-10132-98813',\n",
       " 'A-10139-99894',\n",
       " 'A-10140-99936',\n",
       " 'A-10144-00478',\n",
       " 'A-10147-00911',\n",
       " 'A-10148-01127',\n",
       " 'A-10148-01168',\n",
       " 'A-10148-01277',\n",
       " 'A-10152-01478',\n",
       " 'A-10154-01821',\n",
       " 'A-10155-02053',\n",
       " 'A-10158-02164',\n",
       " 'A-10158-02198',\n",
       " 'A-10158-02227',\n",
       " 'A-10158-02259',\n",
       " 'A-10159-02483',\n",
       " 'A-10161-02907',\n",
       " 'A-10161-02963',\n",
       " 'A-10162-03028',\n",
       " 'A-10162-03109',\n",
       " 'A-10162-03139',\n",
       " 'A-10166-03469',\n",
       " 'A-10166-03588',\n",
       " 'A-10168-03938',\n",
       " 'A-10168-04102',\n",
       " 'A-10172-04616',\n",
       " 'A-10173-04822',\n",
       " 'A-10173-04829',\n",
       " 'A-10173-04852',\n",
       " 'A-10173-04854',\n",
       " 'A-10173-04856',\n",
       " 'A-10300-28029',\n",
       " 'A-10173-04865',\n",
       " 'A-10174-04976',\n",
       " 'A-10174-04979',\n",
       " 'A-10174-05048',\n",
       " 'A-10174-05075',\n",
       " 'A-10174-05090',\n",
       " 'A-10175-05176',\n",
       " 'A-10175-05239',\n",
       " 'A-10175-05377',\n",
       " 'A-10176-05529',\n",
       " 'A-10176-05583',\n",
       " 'A-10176-05613',\n",
       " 'A-10176-05622',\n",
       " 'A-10177-05665',\n",
       " 'A-10178-05694',\n",
       " 'A-10178-05695',\n",
       " 'A-10178-05706',\n",
       " 'A-10178-05717',\n",
       " 'A-10178-05724',\n",
       " 'A-10178-05726',\n",
       " 'A-10178-05737',\n",
       " 'A-10178-05738',\n",
       " 'A-10178-05740',\n",
       " 'A-10178-05745',\n",
       " 'A-10178-05747',\n",
       " 'A-10323-33262',\n",
       " 'A-10326-33551',\n",
       " 'A-10326-33605',\n",
       " 'A-10326-33625',\n",
       " 'A-10327-33738',\n",
       " 'A-10327-33787',\n",
       " 'A-10327-33816',\n",
       " 'A-10328-34187',\n",
       " 'A-10330-34316',\n",
       " 'A-10330-34332',\n",
       " 'A-10333-34473',\n",
       " 'A-10333-34481',\n",
       " 'A-10333-34524',\n",
       " 'A-10333-34549',\n",
       " 'A-10333-34551',\n",
       " 'A-10333-34706',\n",
       " 'A-10333-34724',\n",
       " 'A-10333-34736',\n",
       " 'A-10350-39548',\n",
       " 'A-10334-34853',\n",
       " 'A-10334-34874',\n",
       " 'A-10334-34890',\n",
       " 'A-10335-35055',\n",
       " 'A-10335-35089',\n",
       " 'A-10246-17426',\n",
       " 'A-10335-35099',\n",
       " 'A-10335-35252',\n",
       " 'A-10335-35365',\n",
       " 'A-10335-35413',\n",
       " 'A-10335-35416',\n",
       " 'A-10336-35509',\n",
       " 'A-10336-35564',\n",
       " 'A-10336-35581',\n",
       " 'A-10336-35587',\n",
       " 'A-10336-35616',\n",
       " 'A-10336-35640',\n",
       " 'A-10337-35903',\n",
       " 'A-10337-36008',\n",
       " 'A-10337-36094',\n",
       " 'A-10340-36452',\n",
       " 'A-10340-36542',\n",
       " 'A-10340-36675',\n",
       " 'A-10340-36753',\n",
       " 'A-10279-23849',\n",
       " 'A-10341-36923',\n",
       " 'A-10341-37122',\n",
       " 'A-10342-37216',\n",
       " 'A-10342-37226',\n",
       " 'A-10342-37410',\n",
       " 'A-10342-37413',\n",
       " 'A-10342-37458',\n",
       " 'A-10343-37626',\n",
       " 'A-10343-37752',\n",
       " 'A-10343-37874',\n",
       " 'A-10343-37961',\n",
       " 'A-10344-38058',\n",
       " 'A-10344-38301',\n",
       " 'A-10347-38445',\n",
       " 'A-10347-38463',\n",
       " 'A-10347-38553',\n",
       " 'A-10178-05749',\n",
       " 'A-10178-05750',\n",
       " 'A-10179-05808',\n",
       " 'A-10179-05883',\n",
       " 'A-10179-05904',\n",
       " 'A-10179-05909',\n",
       " 'A-10179-06006',\n",
       " 'A-10300-28007',\n",
       " 'A-10179-06018',\n",
       " 'A-10180-06045',\n",
       " 'A-10180-06061',\n",
       " 'A-10180-06082',\n",
       " 'A-10180-06111',\n",
       " 'A-10180-06118',\n",
       " 'A-10180-06140',\n",
       " 'A-10180-06246',\n",
       " 'A-10180-06258',\n",
       " 'A-10180-06271',\n",
       " 'A-10180-06273',\n",
       " 'A-10180-06308',\n",
       " 'A-10180-06327',\n",
       " 'A-10180-06351',\n",
       " 'A-10181-06356',\n",
       " 'A-10181-06359',\n",
       " 'A-10181-06419',\n",
       " 'A-10181-06425',\n",
       " 'A-10181-06434',\n",
       " 'A-10181-06442',\n",
       " 'A-10181-06445',\n",
       " 'A-10181-06452',\n",
       " 'A-10181-06460',\n",
       " 'A-10181-06482',\n",
       " 'A-10181-06533',\n",
       " 'A-10181-06549',\n",
       " 'A-10181-06550',\n",
       " 'A-10181-06554',\n",
       " 'A-10181-06569',\n",
       " 'A-10181-06578',\n",
       " 'A-10181-06611',\n",
       " 'A-10181-06628',\n",
       " 'A-10183-06970',\n",
       " 'A-10187-07219',\n",
       " 'A-10188-07408',\n",
       " 'A-10188-07409',\n",
       " 'A-10188-07414',\n",
       " 'A-10191-07880',\n",
       " 'A-10193-08105',\n",
       " 'A-10194-08153',\n",
       " 'A-10194-08295',\n",
       " 'A-10195-08421',\n",
       " 'A-10195-08476',\n",
       " 'A-10197-08845',\n",
       " 'A-10219-12547',\n",
       " 'A-10197-08861',\n",
       " 'A-10197-08906',\n",
       " 'A-10197-08947',\n",
       " 'A-10197-08991',\n",
       " 'A-10200-09144',\n",
       " 'A-10200-09287',\n",
       " 'A-10201-09316',\n",
       " 'A-10202-09659',\n",
       " 'A-10208-10501',\n",
       " 'A-10210-11021',\n",
       " 'A-10210-11044',\n",
       " 'A-10210-11082',\n",
       " 'A-10210-11087',\n",
       " 'A-10213-11316',\n",
       " 'A-10214-11351',\n",
       " 'A-10214-11372',\n",
       " 'A-10214-11428',\n",
       " 'A-10214-11442',\n",
       " 'A-10215-11552',\n",
       " 'A-10215-11607',\n",
       " 'A-10217-12067',\n",
       " 'A-10217-12122',\n",
       " 'A-10217-12184',\n",
       " 'A-10218-12388',\n",
       " 'A-11263-07017',\n",
       " 'A-10221-12681',\n",
       " 'A-10224-13371',\n",
       " 'A-10225-13591',\n",
       " 'A-10229-14049',\n",
       " 'A-10229-14137',\n",
       " 'A-10229-14163',\n",
       " 'A-10230-14381',\n",
       " 'A-10230-14471',\n",
       " 'A-10230-14514',\n",
       " 'A-10231-14554',\n",
       " 'A-10235-15134',\n",
       " 'A-10236-15506',\n",
       " 'A-10237-15557',\n",
       " 'A-10237-15624',\n",
       " 'A-10239-16070',\n",
       " 'A-10242-16391',\n",
       " 'A-10242-16478',\n",
       " 'A-10243-16620',\n",
       " 'A-10243-16647',\n",
       " 'A-10243-16729',\n",
       " 'A-10244-17017',\n",
       " 'A-10245-17292',\n",
       " 'A-10245-17302',\n",
       " 'A-10246-17492',\n",
       " 'A-10246-17531',\n",
       " 'A-10250-17703',\n",
       " 'A-10250-17722',\n",
       " 'A-10250-17732',\n",
       " 'A-10250-17823',\n",
       " 'A-10251-18039',\n",
       " 'A-10251-18155',\n",
       " 'A-10252-18263',\n",
       " 'A-10252-18366',\n",
       " 'A-10252-18393',\n",
       " 'A-10252-18466',\n",
       " 'A-10256-18902',\n",
       " 'A-10256-18927',\n",
       " 'A-10256-18958',\n",
       " 'A-10256-19010',\n",
       " 'A-10256-19077',\n",
       " 'A-10256-19150',\n",
       " 'A-10257-19160',\n",
       " 'A-10257-19194',\n",
       " 'A-10257-19231',\n",
       " 'A-10257-19280',\n",
       " 'A-10258-19487',\n",
       " 'A-10258-19534',\n",
       " 'A-10260-20057',\n",
       " 'A-10261-20265',\n",
       " 'A-10262-20293',\n",
       " 'A-10263-20534',\n",
       " 'A-10264-20644',\n",
       " 'A-10264-20806',\n",
       " 'A-10265-20955',\n",
       " 'A-10266-21206',\n",
       " 'A-10266-21402',\n",
       " 'A-10267-21451',\n",
       " 'A-10272-22225',\n",
       " 'A-10272-22278',\n",
       " 'A-10273-22515',\n",
       " 'A-10273-22662',\n",
       " 'A-10273-22707',\n",
       " 'A-10273-22721',\n",
       " 'A-10274-22884',\n",
       " 'A-10277-23105',\n",
       " 'A-10277-23142',\n",
       " 'A-10277-23221',\n",
       " 'A-10278-23309',\n",
       " 'A-10278-23426',\n",
       " 'A-10279-23791',\n",
       " 'A-10281-24305',\n",
       " 'A-10284-24467',\n",
       " 'A-10285-24682',\n",
       " 'A-10287-25299',\n",
       " 'A-10287-25328',\n",
       " 'A-10288-25555',\n",
       " 'A-10291-25867',\n",
       " 'A-10291-25888',\n",
       " 'A-10292-26172',\n",
       " 'A-10292-26203',\n",
       " 'A-10292-26215',\n",
       " 'A-10293-26400',\n",
       " 'A-10293-26554',\n",
       " 'A-10293-26558',\n",
       " 'A-10294-26785',\n",
       " 'A-10294-26937',\n",
       " 'A-10298-27281',\n",
       " 'A-10299-27779',\n",
       " 'A-10300-27822',\n",
       " 'A-10300-27836',\n",
       " 'A-10300-27862',\n",
       " 'A-10300-27927',\n",
       " 'A-10300-27944',\n",
       " 'A-10300-27957',\n",
       " 'A-10300-28030',\n",
       " 'A-10301-28209',\n",
       " 'A-10301-28373',\n",
       " 'A-10302-28644',\n",
       " 'A-10302-28660',\n",
       " 'A-10302-28665',\n",
       " 'A-10305-28945',\n",
       " 'A-10305-28960',\n",
       " 'A-10305-28977',\n",
       " 'A-10305-28981',\n",
       " 'A-10305-28988',\n",
       " 'A-10305-29103',\n",
       " 'A-10306-29255',\n",
       " 'A-10306-29262',\n",
       " 'A-10306-29358',\n",
       " 'A-10307-29484',\n",
       " 'A-10307-29513',\n",
       " 'A-10307-29706',\n",
       " 'A-10308-29881',\n",
       " 'A-10308-29971',\n",
       " 'A-10308-30008',\n",
       " 'A-10309-30142',\n",
       " 'A-10309-30217',\n",
       " 'A-10312-30693',\n",
       " 'A-10313-30781',\n",
       " 'A-10313-30833',\n",
       " 'A-10313-30882',\n",
       " 'A-10313-30985',\n",
       " 'A-10313-31059',\n",
       " 'A-10313-31067',\n",
       " 'A-10314-31111',\n",
       " 'A-10314-31302',\n",
       " 'A-10314-31396',\n",
       " 'A-10315-31490',\n",
       " 'A-10315-31604',\n",
       " ...]"
      ]
     },
     "execution_count": 20,
     "metadata": {},
     "output_type": "execute_result"
    }
   ],
   "source": [
    "casenumberlist"
   ]
  },
  {
   "cell_type": "code",
   "execution_count": 21,
   "id": "7d91c337-be29-4aac-b197-69a83d807636",
   "metadata": {},
   "outputs": [],
   "source": [
    "df['casenumber'] = casenumberlist"
   ]
  },
  {
   "cell_type": "code",
   "execution_count": 22,
   "id": "91d689ee-98a9-4778-b0e1-7ba13fbba7c0",
   "metadata": {},
   "outputs": [],
   "source": [
    "df.drop(['case_no', 'case_number'], axis = 1, inplace = True)"
   ]
  },
  {
   "cell_type": "code",
   "execution_count": 23,
   "id": "4c29aec8-9a76-456a-971e-688c43f7311a",
   "metadata": {},
   "outputs": [
    {
     "data": {
      "text/plain": [
       "Index(['add_these_pw_job_title_9089', 'agent_city', 'agent_firm_name',\n",
       "       'agent_state', 'application_type', 'case_received_date', 'case_status',\n",
       "       'class_of_admission', 'country_of_citizenship', 'country_of_citzenship',\n",
       "       ...\n",
       "       'ri_us_workers_considered', 'schd_a_sheepherder', 'us_economic_sector',\n",
       "       'wage_offer_from_9089', 'wage_offer_to_9089',\n",
       "       'wage_offer_unit_of_pay_9089', 'wage_offered_from_9089',\n",
       "       'wage_offered_to_9089', 'wage_offered_unit_of_pay_9089', 'casenumber'],\n",
       "      dtype='object', length=153)"
      ]
     },
     "execution_count": 23,
     "metadata": {},
     "output_type": "execute_result"
    }
   ],
   "source": [
    "df.columns"
   ]
  },
  {
   "cell_type": "code",
   "execution_count": 24,
   "id": "1202f62f-e5b0-440e-87d2-3052d9ada334",
   "metadata": {},
   "outputs": [
    {
     "data": {
      "text/plain": [
       "array(['Certified', 'Denied', 'Certified-Expired', 'Withdrawn'],\n",
       "      dtype=object)"
      ]
     },
     "execution_count": 24,
     "metadata": {},
     "output_type": "execute_result"
    }
   ],
   "source": [
    "df.case_status.unique()"
   ]
  },
  {
   "cell_type": "code",
   "execution_count": 25,
   "id": "7e5cbc39-dfb9-451b-9979-38d18f4c282d",
   "metadata": {},
   "outputs": [
    {
     "name": "stdout",
     "output_type": "stream",
     "text": [
      "181933 occurence of stats 'Certified'\n",
      "25649 occurence of stats 'Denied'\n",
      "148586 occurence of stats 'Certified-Expired'\n",
      "18194 occurence of stats 'Withdrawn'\n"
     ]
    }
   ],
   "source": [
    "# you can also use value_counts() directly\n",
    "for value in df.case_status.unique():\n",
    "    print(len(df[df['case_status'] == value]), \"occurence of stats '{}'\".format(value))"
   ]
  },
  {
   "cell_type": "code",
   "execution_count": 26,
   "id": "09a6f475-8729-4ddd-aee8-467c604db36a",
   "metadata": {},
   "outputs": [],
   "source": [
    "df = df[df.case_status != 'Withdrawn']"
   ]
  },
  {
   "cell_type": "code",
   "execution_count": 27,
   "id": "9da3a354-7085-4de3-979d-1a1209b77659",
   "metadata": {},
   "outputs": [
    {
     "data": {
      "text/plain": [
       "case_status\n",
       "Certified            181933\n",
       "Certified-Expired    148586\n",
       "Denied                25649\n",
       "Name: count, dtype: int64"
      ]
     },
     "execution_count": 27,
     "metadata": {},
     "output_type": "execute_result"
    }
   ],
   "source": [
    "df.case_status.value_counts()"
   ]
  },
  {
   "cell_type": "code",
   "execution_count": 28,
   "id": "85da7011-50d1-4f73-a0ff-329ea62c2626",
   "metadata": {},
   "outputs": [],
   "source": [
    "df.loc[df.case_status == \"Certified-Expired\", \"case_status\"] = \"Certified\""
   ]
  },
  {
   "cell_type": "code",
   "execution_count": 29,
   "id": "5b7a707d-3e9f-4e17-af37-f581c08302d4",
   "metadata": {},
   "outputs": [
    {
     "data": {
      "text/plain": [
       "case_status\n",
       "Certified    330519\n",
       "Denied        25649\n",
       "Name: count, dtype: int64"
      ]
     },
     "execution_count": 29,
     "metadata": {},
     "output_type": "execute_result"
    }
   ],
   "source": [
    "df.case_status.value_counts()"
   ]
  },
  {
   "cell_type": "code",
   "execution_count": 30,
   "id": "3f3f23bb-c3b3-4493-b300-47b023b43335",
   "metadata": {},
   "outputs": [
    {
     "data": {
      "text/plain": [
       "case_status\n",
       "Certified    92.798623\n",
       "Denied        7.201377\n",
       "Name: proportion, dtype: float64"
      ]
     },
     "execution_count": 30,
     "metadata": {},
     "output_type": "execute_result"
    }
   ],
   "source": [
    "df.case_status.value_counts(normalize = True)*100"
   ]
  },
  {
   "cell_type": "code",
   "execution_count": 31,
   "id": "18096625-a984-4c5f-85ac-3237cec21222",
   "metadata": {},
   "outputs": [],
   "source": [
    "# insights 7.2% of the visa applications were denied "
   ]
  },
  {
   "cell_type": "code",
   "execution_count": 32,
   "id": "73a2aec1-9bd2-447b-bc47-0f4e7668d34c",
   "metadata": {},
   "outputs": [
    {
     "data": {
      "text/plain": [
       "add_these_pw_job_title_9089      317031\n",
       "agent_city                       153452\n",
       "agent_firm_name                  157646\n",
       "agent_state                      156544\n",
       "application_type                 229320\n",
       "                                  ...  \n",
       "wage_offer_unit_of_pay_9089      108769\n",
       "wage_offered_from_9089           248582\n",
       "wage_offered_to_9089             326852\n",
       "wage_offered_unit_of_pay_9089    289470\n",
       "casenumber                            0\n",
       "Length: 153, dtype: int64"
      ]
     },
     "execution_count": 32,
     "metadata": {},
     "output_type": "execute_result"
    }
   ],
   "source": [
    "df.isnull().sum()"
   ]
  },
  {
   "cell_type": "code",
   "execution_count": 33,
   "id": "56ce6e47-fbeb-4f54-85be-6523e259693d",
   "metadata": {},
   "outputs": [],
   "source": [
    "# dropping rows and columns which are entire empty\n",
    "df.dropna(axis = 1, how = 'all', inplace = True)\n",
    "df.dropna(axis = 0, how = 'all', inplace = True)"
   ]
  },
  {
   "cell_type": "code",
   "execution_count": 34,
   "id": "4e31bfdd-ce8d-4b9d-b154-338644082eb3",
   "metadata": {},
   "outputs": [
    {
     "name": "stdout",
     "output_type": "stream",
     "text": [
      "the missing values for add_these_pw_job_title_9089 is 317031\n",
      "the missing values for agent_city is 153452\n",
      "the missing values for agent_firm_name is 157646\n",
      "the missing values for agent_state is 156544\n",
      "the missing values for application_type is 229320\n",
      "the missing values for case_received_date is 126848\n",
      "the missing values for case_status is 0\n",
      "the missing values for class_of_admission is 21085\n",
      "the missing values for country_of_citizenship is 19272\n",
      "the missing values for country_of_citzenship is 336951\n",
      "the missing values for decision_date is 0\n",
      "the missing values for employer_address_1 is 37\n",
      "the missing values for employer_address_2 is 236133\n",
      "the missing values for employer_city is 10\n",
      "the missing values for employer_country is 126920\n",
      "the missing values for employer_decl_info_title is 126886\n",
      "the missing values for employer_name is 8\n",
      "the missing values for employer_num_employees is 126925\n",
      "the missing values for employer_phone is 126883\n",
      "the missing values for employer_phone_ext is 333670\n",
      "the missing values for employer_postal_code is 33\n",
      "the missing values for employer_state is 37\n",
      "the missing values for employer_yr_estab is 126982\n",
      "the missing values for foreign_worker_info_alt_edu_experience is 271883\n",
      "the missing values for foreign_worker_info_birth_country is 271880\n",
      "the missing values for foreign_worker_info_city is 126875\n",
      "the missing values for foreign_worker_info_education is 143554\n",
      "the missing values for foreign_worker_info_education_other is 352421\n",
      "the missing values for foreign_worker_info_inst is 143883\n",
      "the missing values for foreign_worker_info_major is 144800\n",
      "the missing values for foreign_worker_info_postal_code is 274425\n",
      "the missing values for foreign_worker_info_rel_occup_exp is 271875\n",
      "the missing values for foreign_worker_info_req_experience is 271873\n",
      "the missing values for foreign_worker_info_state is 142448\n",
      "the missing values for foreign_worker_info_training_comp is 271874\n",
      "the missing values for foreign_worker_ownership_interest is 271870\n",
      "the missing values for foreign_worker_yr_rel_edu_completed is 276735\n",
      "the missing values for fw_info_alt_edu_experience is 211154\n",
      "the missing values for fw_info_birth_country is 211166\n",
      "the missing values for fw_info_education_other is 350072\n",
      "the missing values for fw_info_postal_code is 213280\n",
      "the missing values for fw_info_rel_occup_exp is 211157\n",
      "the missing values for fw_info_req_experience is 211153\n",
      "the missing values for fw_info_training_comp is 211156\n",
      "the missing values for fw_info_yr_rel_edu_completed is 223131\n",
      "the missing values for fw_ownership_interest is 211154\n",
      "the missing values for ji_foreign_worker_live_on_premises is 271871\n",
      "the missing values for ji_fw_live_on_premises is 211152\n",
      "the missing values for ji_live_in_dom_svc_contract is 353855\n",
      "the missing values for ji_live_in_domestic_service is 126858\n",
      "the missing values for ji_offered_to_sec_j_foreign_worker is 271871\n",
      "the missing values for ji_offered_to_sec_j_fw is 211152\n",
      "the missing values for job_info_alt_cmb_ed_oth_yrs is 288242\n",
      "the missing values for job_info_alt_combo_ed is 290025\n",
      "the missing values for job_info_alt_combo_ed_exp is 126881\n",
      "the missing values for job_info_alt_combo_ed_other is 347190\n",
      "the missing values for job_info_alt_field is 126880\n",
      "the missing values for job_info_alt_field_name is 265907\n",
      "the missing values for job_info_alt_occ is 213169\n",
      "the missing values for job_info_alt_occ_job_title is 213847\n",
      "the missing values for job_info_alt_occ_num_months is 214045\n",
      "the missing values for job_info_combo_occupation is 126855\n",
      "the missing values for job_info_education is 147649\n",
      "the missing values for job_info_education_other is 348724\n",
      "the missing values for job_info_experience is 126858\n",
      "the missing values for job_info_experience_num_months is 227222\n",
      "the missing values for job_info_foreign_ed is 127075\n",
      "the missing values for job_info_foreign_lang_req is 126862\n",
      "the missing values for job_info_job_req_normal is 126859\n",
      "the missing values for job_info_job_title is 126889\n",
      "the missing values for job_info_major is 151241\n",
      "the missing values for job_info_training is 126861\n",
      "the missing values for job_info_training_field is 351877\n",
      "the missing values for job_info_training_num_months is 351596\n",
      "the missing values for job_info_work_city is 95\n",
      "the missing values for job_info_work_postal_code is 126930\n",
      "the missing values for job_info_work_state is 96\n",
      "the missing values for naics_2007_us_code is 337009\n",
      "the missing values for naics_2007_us_title is 337598\n",
      "the missing values for naics_code is 272070\n",
      "the missing values for naics_title is 272070\n",
      "the missing values for naics_us_code is 211467\n",
      "the missing values for naics_us_code_2007 is 248921\n",
      "the missing values for naics_us_title is 211467\n",
      "the missing values for naics_us_title_2007 is 251893\n",
      "the missing values for orig_case_no is 355892\n",
      "the missing values for orig_file_date is 355904\n",
      "the missing values for preparer_info_emp_completed is 126885\n",
      "the missing values for preparer_info_title is 154602\n",
      "the missing values for pw_amount_9089 is 2203\n",
      "the missing values for pw_determ_date is 127160\n",
      "the missing values for pw_expire_date is 127239\n",
      "the missing values for pw_job_title_908 is 211218\n",
      "the missing values for pw_job_title_9089 is 145334\n",
      "the missing values for pw_level_9089 is 26585\n",
      "the missing values for pw_soc_code is 574\n",
      "the missing values for pw_soc_title is 2321\n",
      "the missing values for pw_source_name_9089 is 2087\n",
      "the missing values for pw_source_name_other_9089 is 340927\n",
      "the missing values for pw_track_num is 128696\n",
      "the missing values for pw_unit_of_pay_9089 is 1481\n",
      "the missing values for rec_info_barg_rep_notified is 271930\n",
      "the missing values for recr_info_barg_rep_notified is 211165\n",
      "the missing values for recr_info_coll_teach_comp_proc is 349374\n",
      "the missing values for recr_info_coll_univ_teacher is 126876\n",
      "the missing values for recr_info_employer_rec_payment is 126864\n",
      "the missing values for recr_info_first_ad_start is 132806\n",
      "the missing values for recr_info_job_fair_from is 354447\n",
      "the missing values for recr_info_job_fair_to is 354451\n",
      "the missing values for recr_info_on_campus_recr_from is 354403\n",
      "the missing values for recr_info_on_campus_recr_to is 354410\n",
      "the missing values for recr_info_pro_org_advert_from is 342873\n",
      "the missing values for recr_info_pro_org_advert_to is 342879\n",
      "the missing values for recr_info_prof_org_advert_from is 328771\n",
      "the missing values for recr_info_prof_org_advert_to is 328778\n",
      "the missing values for recr_info_professional_occ is 126861\n",
      "the missing values for recr_info_radio_tv_ad_from is 336666\n",
      "the missing values for recr_info_radio_tv_ad_to is 336665\n",
      "the missing values for recr_info_second_ad_start is 132843\n",
      "the missing values for recr_info_sunday_newspaper is 132717\n",
      "the missing values for recr_info_swa_job_order_end is 132841\n",
      "the missing values for recr_info_swa_job_order_start is 132819\n",
      "the missing values for refile is 247861\n",
      "the missing values for ri_1st_ad_newspaper_name is 132797\n",
      "the missing values for ri_2nd_ad_newspaper_name is 132858\n",
      "the missing values for ri_2nd_ad_newspaper_or_journal is 132825\n",
      "the missing values for ri_campus_placement_from is 327380\n",
      "the missing values for ri_campus_placement_to is 327390\n",
      "the missing values for ri_coll_tch_basic_process is 349382\n",
      "the missing values for ri_coll_teach_pro_jnl is 350625\n",
      "the missing values for ri_coll_teach_select_date is 350626\n",
      "the missing values for ri_employee_referral_prog_from is 289853\n",
      "the missing values for ri_employee_referral_prog_to is 289852\n",
      "the missing values for ri_employer_web_post_from is 224277\n",
      "the missing values for ri_employer_web_post_to is 224300\n",
      "the missing values for ri_job_search_website_from is 166377\n",
      "the missing values for ri_job_search_website_to is 166388\n",
      "the missing values for ri_layoff_in_past_six_months is 126878\n",
      "the missing values for ri_local_ethnic_paper_from is 239853\n",
      "the missing values for ri_local_ethnic_paper_to is 239852\n",
      "the missing values for ri_posted_notice_at_worksite is 126927\n",
      "the missing values for ri_pvt_employment_firm_from is 340050\n",
      "the missing values for ri_pvt_employment_firm_to is 340052\n",
      "the missing values for ri_us_workers_considered is 339595\n",
      "the missing values for schd_a_sheepherder is 126866\n",
      "the missing values for us_economic_sector is 235300\n",
      "the missing values for wage_offer_from_9089 is 107705\n",
      "the missing values for wage_offer_to_9089 is 285397\n",
      "the missing values for wage_offer_unit_of_pay_9089 is 108769\n",
      "the missing values for wage_offered_from_9089 is 248582\n",
      "the missing values for wage_offered_to_9089 is 326852\n",
      "the missing values for wage_offered_unit_of_pay_9089 is 289470\n",
      "the missing values for casenumber is 0\n"
     ]
    }
   ],
   "source": [
    "for columns in df.columns:\n",
    "    print(f\"the missing values for {columns} is {df[columns].isnull().sum()}\")\n",
    "# can perform missing value treatment on these "
   ]
  },
  {
   "cell_type": "code",
   "execution_count": 35,
   "id": "505fa4c9-b6dc-495e-89fc-4df061b9b305",
   "metadata": {},
   "outputs": [
    {
     "data": {
      "text/plain": [
       "Index(['add_these_pw_job_title_9089', 'agent_city', 'agent_firm_name',\n",
       "       'agent_state', 'application_type', 'case_received_date', 'case_status',\n",
       "       'class_of_admission', 'country_of_citizenship', 'country_of_citzenship',\n",
       "       ...\n",
       "       'ri_us_workers_considered', 'schd_a_sheepherder', 'us_economic_sector',\n",
       "       'wage_offer_from_9089', 'wage_offer_to_9089',\n",
       "       'wage_offer_unit_of_pay_9089', 'wage_offered_from_9089',\n",
       "       'wage_offered_to_9089', 'wage_offered_unit_of_pay_9089', 'casenumber'],\n",
       "      dtype='object', length=153)"
      ]
     },
     "execution_count": 35,
     "metadata": {},
     "output_type": "execute_result"
    }
   ],
   "source": [
    "df.columns"
   ]
  },
  {
   "cell_type": "code",
   "execution_count": 40,
   "id": "26d52b00-d12d-4ff9-b907-5e6b9ef2093e",
   "metadata": {},
   "outputs": [],
   "source": [
    "df['decision_date'] = pd.to_datetime(df['decision_date'])"
   ]
  },
  {
   "cell_type": "code",
   "execution_count": 41,
   "id": "d338bfef-90cc-4268-b052-ffdb13a7dc2b",
   "metadata": {},
   "outputs": [
    {
     "data": {
      "text/plain": [
       "0        2012-02-01\n",
       "1        2011-12-21\n",
       "2        2011-12-01\n",
       "3        2011-12-01\n",
       "4        2012-01-26\n",
       "            ...    \n",
       "374349   2016-12-30\n",
       "374350   2016-12-30\n",
       "374351   2016-12-30\n",
       "374352   2016-12-30\n",
       "374353   2016-12-30\n",
       "Name: decision_date, Length: 356168, dtype: datetime64[ns]"
      ]
     },
     "execution_count": 41,
     "metadata": {},
     "output_type": "execute_result"
    }
   ],
   "source": [
    "df['decision_date']"
   ]
  },
  {
   "cell_type": "code",
   "execution_count": 42,
   "id": "054faae5-3094-4bc5-8a20-a2f16fdd5ab7",
   "metadata": {},
   "outputs": [],
   "source": [
    "df['year'] = df['decision_date'].dt.year\n",
    "df['month'] = df['decision_date'].dt.month\n",
    "df['day'] = df['decision_date'].dt.day"
   ]
  },
  {
   "cell_type": "code",
   "execution_count": 43,
   "id": "2a8548b9-ee91-4c23-a3ea-e2e57f682d54",
   "metadata": {},
   "outputs": [
    {
     "data": {
      "text/plain": [
       "<Axes: xlabel='year', ylabel='count'>"
      ]
     },
     "execution_count": 43,
     "metadata": {},
     "output_type": "execute_result"
    },
    {
     "data": {
      "image/png": "[encoded data removed]",
      "text/plain": [
       "<Figure size 640x480 with 1 Axes>"
      ]
     },
     "metadata": {},
     "output_type": "display_data"
    }
   ],
   "source": [
    "# year wise status\n",
    "\n",
    "sns.countplot(x = 'year', hue = 'case_status', data = df)"
   ]
  },
  {
   "cell_type": "code",
   "execution_count": 44,
   "id": "ac9de595-1603-43d4-adac-f8b6665a5da0",
   "metadata": {},
   "outputs": [],
   "source": [
    "# insights >> upward trend \n",
    "# 2016-highest"
   ]
  },
  {
   "cell_type": "code",
   "execution_count": 45,
   "id": "ad8bf114-9c42-4501-828e-8ba1ed3b375b",
   "metadata": {},
   "outputs": [
    {
     "data": {
      "text/plain": [
       "array(['NEW YORK', 'CARLSTADT', 'GLEN ALLEN', ..., 'austin',\n",
       "       'Carson City', 'Northfield'], dtype=object)"
      ]
     },
     "execution_count": 45,
     "metadata": {},
     "output_type": "execute_result"
    }
   ],
   "source": [
    "df.employer_city.unique()"
   ]
  },
  {
   "cell_type": "code",
   "execution_count": 46,
   "id": "ddff9e31-02c8-449e-a285-2881d112b6ea",
   "metadata": {},
   "outputs": [
    {
     "data": {
      "text/plain": [
       "employer_city\n",
       "NEW YORK           15992\n",
       "COLLEGE STATION    11983\n",
       "SANTA CLARA        10446\n",
       "SAN JOSE            9004\n",
       "REDMOND             8469\n",
       "                   ...  \n",
       "PARADISE               1\n",
       "GRANITE SPRINGS        1\n",
       "GALLIANO               1\n",
       "BURKBURNETT            1\n",
       "Northfield             1\n",
       "Name: count, Length: 8324, dtype: int64"
      ]
     },
     "execution_count": 46,
     "metadata": {},
     "output_type": "execute_result"
    }
   ],
   "source": [
    "df.employer_city.value_counts()"
   ]
  },
  {
   "cell_type": "code",
   "execution_count": 49,
   "id": "f60e121a-b335-4ffe-9d05-75b7153b1f0b",
   "metadata": {},
   "outputs": [],
   "source": [
    "df['employer_city']= df['employer_city'].str.upper()"
   ]
  },
  {
   "cell_type": "code",
   "execution_count": 51,
   "id": "b982309a-0f59-4265-b048-51b570bc71dc",
   "metadata": {},
   "outputs": [
    {
     "data": {
      "text/plain": [
       "array(['NEW YORK', 'CARLSTADT', 'GLEN ALLEN', ..., 'PERRYSVILLE',\n",
       "       'STILWELL', 'ROYAL OAKS'], dtype=object)"
      ]
     },
     "execution_count": 51,
     "metadata": {},
     "output_type": "execute_result"
    }
   ],
   "source": [
    "df['employer_city'].unique() # everything in capital letter"
   ]
  },
  {
   "cell_type": "code",
   "execution_count": 54,
   "id": "b513eaba-5712-4fcb-a4a2-859ebd8a5f20",
   "metadata": {},
   "outputs": [
    {
     "data": {
      "text/plain": [
       "<Axes: xlabel='employer_city', ylabel='count'>"
      ]
     },
     "execution_count": 54,
     "metadata": {},
     "output_type": "execute_result"
    },
    {
     "data": {
      "image/png": "[encoded data removed]",
      "text/plain": [
       "<Figure size 640x480 with 1 Axes>"
      ]
     },
     "metadata": {},
     "output_type": "display_data"
    }
   ],
   "source": [
    "# employer city year wise: year wise which are the city where the visa approved pepole are working\n",
    "\n",
    "\n",
    "sns.countplot(x = 'employer_city', hue = 'year', data = df, order = df.employer_city.value_counts().iloc[:10].index)"
   ]
  },
  {
   "cell_type": "code",
   "execution_count": 56,
   "id": "17401b32-3ee8-4e0e-9465-6cf9e168e47b",
   "metadata": {},
   "outputs": [
    {
     "data": {
      "image/png": "[encoded data removed]",
      "text/plain": [
       "<Figure size 1360x850 with 1 Axes>"
      ]
     },
     "metadata": {},
     "output_type": "display_data"
    }
   ],
   "source": [
    "fig, ax = plt.subplots()\n",
    "fig.set_size_inches(13.6, 8.5)\n",
    "\n",
    "sns.set_context(\"paper\", rc = {\"font.size\" : 12, \"axis.titlesize\" : 12, \"axes.labelsize\" : 12})\n",
    "sns.countplot(x = 'employer_city', hue = 'year', data = df, order = df.employer_city.value_counts().iloc[:10].index)\n",
    "plt.xticks(rotation = 90)\n",
    "plt.show()"
   ]
  },
  {
   "cell_type": "code",
   "execution_count": 57,
   "id": "331706ce-495e-4b6f-8dc3-1187b30a4985",
   "metadata": {},
   "outputs": [],
   "source": [
    "# top 10 employers by visa application"
   ]
  },
  {
   "cell_type": "code",
   "execution_count": 71,
   "id": "7f856527-0d77-401b-ac64-65611bfedf8b",
   "metadata": {},
   "outputs": [
    {
     "data": {
      "image/png": "[encoded data removed]",
      "text/plain": [
       "<Figure size 640x480 with 1 Axes>"
      ]
     },
     "metadata": {},
     "output_type": "display_data"
    }
   ],
   "source": [
    "top_emp = df['employer_name'].value_counts().head(10)\n",
    "top_emp.plot(kind = 'bar', color = 'skyblue')\n",
    "for i, v in enumerate(top_emp):\n",
    "    plt.text(i, v+10, str(v), ha = 'center', va = 'bottom', fontsize = 10)"
   ]
  },
  {
   "cell_type": "code",
   "execution_count": 72,
   "id": "621c42ae-3bc3-4bc2-a43c-6f0034aa3e92",
   "metadata": {},
   "outputs": [
    {
     "data": {
      "text/plain": [
       "0                            IT\n",
       "1         Other Economic Sector\n",
       "2                     Aerospace\n",
       "3         Other Economic Sector\n",
       "4                  Advanced Mfg\n",
       "                  ...          \n",
       "374349                      NaN\n",
       "374350                      NaN\n",
       "374351                      NaN\n",
       "374352                      NaN\n",
       "374353                      NaN\n",
       "Name: us_economic_sector, Length: 356168, dtype: object"
      ]
     },
     "execution_count": 72,
     "metadata": {},
     "output_type": "execute_result"
    }
   ],
   "source": [
    "df['us_economic_sector']"
   ]
  },
  {
   "cell_type": "code",
   "execution_count": 73,
   "id": "eaf2d161-b416-40d9-a511-424562bda8a8",
   "metadata": {},
   "outputs": [],
   "source": [
    "# value_counts function from scratch\n",
    "us_economic_counts = {}\n",
    "for value in df['us_economic_sector'].dropna():\n",
    "    if value in us_economic_counts:\n",
    "        us_economic_counts[value] += 1\n",
    "    else:\n",
    "        us_economic_counts[value] = 1\n"
   ]
  },
  {
   "cell_type": "code",
   "execution_count": 74,
   "id": "b3da14ce-1ed3-4403-b0a9-e46f47f13102",
   "metadata": {},
   "outputs": [
    {
     "data": {
      "text/plain": [
       "{'IT': 49311,\n",
       " 'Other Economic Sector': 14662,\n",
       " 'Aerospace': 3917,\n",
       " 'Advanced Mfg': 17601,\n",
       " 'Educational Services': 8561,\n",
       " 'Retail': 4208,\n",
       " 'Construction': 1315,\n",
       " 'Hospitality': 1767,\n",
       " 'Automotive': 1084,\n",
       " 'Health Care': 6407,\n",
       " 'Agribusiness': 784,\n",
       " 'Finance': 8686,\n",
       " 'Energy': 1021,\n",
       " 'Transportation': 893,\n",
       " 'Homeland Security': 78,\n",
       " 'Biotechnology': 436,\n",
       " 'Geospatial': 137}"
      ]
     },
     "execution_count": 74,
     "metadata": {},
     "output_type": "execute_result"
    }
   ],
   "source": [
    "us_economic_counts"
   ]
  },
  {
   "cell_type": "code",
   "execution_count": 75,
   "id": "de46579e-c77a-431a-afea-6ebc30b9e5b8",
   "metadata": {},
   "outputs": [],
   "source": [
    "# nos. as list and names of sector as list\n",
    "usecollabels = []\n",
    "usecolvalues = []\n",
    "\n",
    "for key, value in us_economic_counts.items():\n",
    "    usecollabels.append(key)\n",
    "    usecolvalues.append(value)"
   ]
  },
  {
   "cell_type": "code",
   "execution_count": 76,
   "id": "b8f0ee94-5a47-4d51-823d-e2089abab9dc",
   "metadata": {},
   "outputs": [
    {
     "data": {
      "text/plain": [
       "['IT',\n",
       " 'Other Economic Sector',\n",
       " 'Aerospace',\n",
       " 'Advanced Mfg',\n",
       " 'Educational Services',\n",
       " 'Retail',\n",
       " 'Construction',\n",
       " 'Hospitality',\n",
       " 'Automotive',\n",
       " 'Health Care',\n",
       " 'Agribusiness',\n",
       " 'Finance',\n",
       " 'Energy',\n",
       " 'Transportation',\n",
       " 'Homeland Security',\n",
       " 'Biotechnology',\n",
       " 'Geospatial']"
      ]
     },
     "execution_count": 76,
     "metadata": {},
     "output_type": "execute_result"
    }
   ],
   "source": [
    "usecollabels"
   ]
  },
  {
   "cell_type": "code",
   "execution_count": 77,
   "id": "73b376ec-379f-4ec9-a649-f4b8084092b6",
   "metadata": {},
   "outputs": [
    {
     "data": {
      "text/plain": [
       "[49311,\n",
       " 14662,\n",
       " 3917,\n",
       " 17601,\n",
       " 8561,\n",
       " 4208,\n",
       " 1315,\n",
       " 1767,\n",
       " 1084,\n",
       " 6407,\n",
       " 784,\n",
       " 8686,\n",
       " 1021,\n",
       " 893,\n",
       " 78,\n",
       " 436,\n",
       " 137]"
      ]
     },
     "execution_count": 77,
     "metadata": {},
     "output_type": "execute_result"
    }
   ],
   "source": [
    "usecolvalues"
   ]
  },
  {
   "cell_type": "code",
   "execution_count": 80,
   "id": "5545ebe5-a2eb-43cb-be7e-51f59d2858c1",
   "metadata": {},
   "outputs": [
    {
     "data": {
      "image/png": "[encoded data removed]",
      "text/plain": [
       "<Figure size 1300x1300 with 1 Axes>"
      ]
     },
     "metadata": {},
     "output_type": "display_data"
    }
   ],
   "source": [
    "plt.figure(figsize = (13, 13))\n",
    "plt.pie(usecolvalues[:10], labels = usecollabels[:10], autopct = \"%1.1f%%\")\n",
    "plt.show()"
   ]
  },
  {
   "cell_type": "code",
   "execution_count": 81,
   "id": "df13d517-3057-4851-bbf8-1b804af95e10",
   "metadata": {},
   "outputs": [],
   "source": [
    "# insights >> IT"
   ]
  },
  {
   "cell_type": "code",
   "execution_count": 82,
   "id": "42689d5c-4c28-4831-a7b6-060de7824d91",
   "metadata": {},
   "outputs": [
    {
     "data": {
      "text/plain": [
       "Index(['add_these_pw_job_title_9089', 'agent_city', 'agent_firm_name',\n",
       "       'agent_state', 'application_type', 'case_received_date', 'case_status',\n",
       "       'class_of_admission', 'country_of_citizenship', 'country_of_citzenship',\n",
       "       ...\n",
       "       'wage_offer_from_9089', 'wage_offer_to_9089',\n",
       "       'wage_offer_unit_of_pay_9089', 'wage_offered_from_9089',\n",
       "       'wage_offered_to_9089', 'wage_offered_unit_of_pay_9089', 'casenumber',\n",
       "       'year', 'month', 'day'],\n",
       "      dtype='object', length=156)"
      ]
     },
     "execution_count": 82,
     "metadata": {},
     "output_type": "execute_result"
    }
   ],
   "source": [
    "df.columns"
   ]
  },
  {
   "cell_type": "code",
   "execution_count": 85,
   "id": "e017588d-de01-4a7a-b656-f8c05e30a264",
   "metadata": {},
   "outputs": [
    {
     "data": {
      "text/plain": [
       "job_info_job_title\n",
       "Software Engineer                   14372\n",
       "Computer Systems Analyst - V         4747\n",
       "Senior Software Engineer             3801\n",
       "Computer Systems Analyst - II        3416\n",
       "Software Developer                   2880\n",
       "Assistant Professor                  2604\n",
       "Programmer Analyst                   2534\n",
       "Computer Systems Analyst - IV        2496\n",
       "Systems Analyst                      2034\n",
       "Software Development Engineer II     1630\n",
       "Poultry Processing Worker            1594\n",
       "Component Design Engineer            1064\n",
       "Poultry Processor                    1037\n",
       "Business Analyst                      963\n",
       "software engineer                     932\n",
       "SOFTWARE ENGINEER                     877\n",
       "Senior Programmer Analyst             862\n",
       "Sr. Software Engineer                 847\n",
       "Senior Software Developer             817\n",
       "Commercial Cleaner                    802\n",
       "Name: count, dtype: int64"
      ]
     },
     "execution_count": 85,
     "metadata": {},
     "output_type": "execute_result"
    }
   ],
   "source": [
    "df.job_info_job_title.value_counts()[:20]"
   ]
  },
  {
   "cell_type": "code",
   "execution_count": 86,
   "id": "167ce574-72eb-48e8-8090-61fdb70ade8f",
   "metadata": {},
   "outputs": [],
   "source": [
    "# computer system analyst - V , IV , II and so on, have diff job title\n",
    "# but job profile/domain is same\n",
    "\n",
    "# software engineer, SOFTWARE ENGINEER,  Sr. Software Engineer >> all of this should come in same "
   ]
  },
  {
   "cell_type": "code",
   "execution_count": 89,
   "id": "04a976b4-756b-4910-ad62-d733899d2ba6",
   "metadata": {},
   "outputs": [
    {
     "data": {
      "text/plain": [
       "job_info_job_title\n",
       "software engineer                18582\n",
       "computer systems analyst         12054\n",
       "senior software engineer          5802\n",
       "software developer                4501\n",
       "programmer analyst                3763\n",
       "assistant professor               2869\n",
       "software development engineer     2766\n",
       "systems analyst                   2587\n",
       "senior programmer analyst         1884\n",
       "senior software developer         1625\n",
       "Name: count, dtype: int64"
      ]
     },
     "execution_count": 89,
     "metadata": {},
     "output_type": "execute_result"
    }
   ],
   "source": [
    "#converting to lower case\n",
    "df.job_info_job_title = df.job_info_job_title.str.lower()\n",
    "\n",
    "#Splitting job titles by '-'\n",
    "df['job_info_job_title'] = df['job_info_job_title'].astype(str).str.split('-').str[0]\n",
    "#Splitting job titles by 'ii'\n",
    "df['job_info_job_title'] = df['job_info_job_title'].astype(str).str.split('ii').str[0]\n",
    "#Splitting job titles by '/'\n",
    "df['job_info_job_title'] = df['job_info_job_title'].astype(str).str.split('/').str[0]\n",
    "#Removing leading and ending spaces\n",
    "df['job_info_job_title'] = df['job_info_job_title'].astype(str).str.strip()\n",
    "#Replacing \"sr.\" values with \"senior\"\n",
    "df['job_info_job_title'] = df['job_info_job_title'].str.replace('sr.', 'senior')\n",
    "#Replacing \"NaN\", \"NaT\" and \"nan\" values with np.nan\n",
    "df['job_info_job_title'].replace([\"NaN\", 'NaT','nan'], np.nan, inplace = True)\n",
    "\n",
    "\n",
    "df['job_info_job_title'].value_counts(dropna=True)[:10]"
   ]
  },
  {
   "cell_type": "code",
   "execution_count": 92,
   "id": "0d134b7b-6fce-4511-8f02-fadb93fb8fa7",
   "metadata": {},
   "outputs": [
    {
     "data": {
      "image/png": "[encoded data removed]",
      "text/plain": [
       "<Figure size 1270x830 with 1 Axes>"
      ]
     },
     "metadata": {},
     "output_type": "display_data"
    }
   ],
   "source": [
    "# get the top ten job titles by count\n",
    "\n",
    "top_job_titles = df.job_info_job_title.value_counts().head(10)\n",
    "\n",
    "# create a bar plot\n",
    "plt.figure(figsize = (12.7, 8.3))\n",
    "plt.bar(top_job_titles.index, top_job_titles)\n",
    "\n",
    "plt.xticks(rotation = 90)\n",
    "plt.show()"
   ]
  },
  {
   "cell_type": "code",
   "execution_count": 93,
   "id": "07ed256b-a4d5-4535-8e8d-6c3d85250e81",
   "metadata": {},
   "outputs": [],
   "source": [
    "# insights >> software engineers applies most visa applications"
   ]
  },
  {
   "cell_type": "code",
   "execution_count": 95,
   "id": "d6c3a083-984a-4a40-8d7d-04fe38c30f09",
   "metadata": {},
   "outputs": [
    {
     "data": {
      "text/plain": [
       "[NaN, NaN, NaN, NaN, NaN, ..., 'INDIA', 'INDIA', 'INDIA', 'INDIA', 'INDIA']\n",
       "Length: 356168\n",
       "Categories (201, object): ['AFGHANISTAN', 'ALBANIA', 'ALGERIA', 'ANDORRA', ..., 'YEMEN', 'YUGOSLAVIA', 'ZAMBIA', 'ZIMBABWE']"
      ]
     },
     "execution_count": 95,
     "metadata": {},
     "output_type": "execute_result"
    }
   ],
   "source": [
    "# convert country_of_citizenship column to categorical data type\n",
    "pd.Categorical(df.country_of_citizenship)"
   ]
  },
  {
   "cell_type": "code",
   "execution_count": null,
   "id": "4703caec-6b2b-4a90-a300-c2f9fc0d7d49",
   "metadata": {},
   "outputs": [],
   "source": []
  }
 ],
 "metadata": {
  "kernelspec": {
   "display_name": "Python 3 (ipykernel)",
   "language": "python",
   "name": "python3"
  },
  "language_info": {
   "codemirror_mode": {
    "name": "ipython",
    "version": 3
   },
   "file_extension": ".py",
   "mimetype": "text/x-python",
   "name": "python",
   "nbconvert_exporter": "python",
   "pygments_lexer": "ipython3",
   "version": "3.12.7"
  }
 },
 "nbformat": 4,
 "nbformat_minor": 5
}
